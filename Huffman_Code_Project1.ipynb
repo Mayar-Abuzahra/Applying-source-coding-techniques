{
  "cells": [
    {
      "cell_type": "markdown",
      "metadata": {
        "id": "hSYuI36jlTY3"
      },
      "source": [
        "# ***Import Libriries***"
      ]
    },
    {
      "cell_type": "code",
      "execution_count": null,
      "metadata": {
        "colab": {
          "base_uri": "https://localhost:8080/"
        },
        "id": "WFdJb4TmijQj",
        "outputId": "c8016d3c-e511-4b7c-eed6-1727f67c3411"
      },
      "outputs": [
        {
          "name": "stdout",
          "output_type": "stream",
          "text": [
            "Looking in indexes: https://pypi.org/simple, https://us-python.pkg.dev/colab-wheels/public/simple/\n",
            "Requirement already satisfied: bitarray in /usr/local/lib/python3.8/dist-packages (2.6.2)\n"
          ]
        }
      ],
      "source": [
        "pip install bitarray"
      ]
    },
    {
      "cell_type": "code",
      "execution_count": null,
      "metadata": {
        "colab": {
          "background_save": true
        },
        "id": "f-SBMAW3h2Dz"
      },
      "outputs": [],
      "source": [
        "from heapq import heappush, heappop, heapify\n",
        "from collections import defaultdict\n",
        "from bitarray import bitarray\n",
        "import math"
      ]
    },
    {
      "cell_type": "markdown",
      "metadata": {
        "id": "6rvyEGoylbbt"
      },
      "source": [
        "# ***Read the text file wanted(uploaded)***"
      ]
    },
    {
      "cell_type": "code",
      "execution_count": null,
      "metadata": {
        "colab": {
          "background_save": true,
          "base_uri": "https://localhost:8080/"
        },
        "id": "BipR8LtChXGw",
        "outputId": "ceba1452-4b6c-4ad3-9c02-247d83b8b1e3"
      },
      "outputs": [
        {
          "name": "stdout",
          "output_type": "stream",
          "text": [
            "MRS. MOONEY was a butchers daughter. She was a woman who was quite able to keep things to herself: a determined woman. She had married her fathers foreman and opened a butchers shop near Spring Gardens. But as soon as his father-in-law was dead Mr. Mooney began to go to the devil. He drank, plundered the till, ran headlong into debt. It was no use making him take the pledge: he was sure to break out again a few days after. By fighting his wife in the presence of customers and by buying bad meat he ruined his business. One night he went for his wife with the cleaver and she had to sleep a neighbours house. After that they lived apart. She went to the priest and got a separation from him with care of the children. She would give him neither money nor food nor house-room; and so he was obliged to enlist himself as a sheriffs man. He was a shabby stooped little drunkard with a white face and a white moustache white eyebrows, pencilled above his little eyes, which were veined and raw; and all day long he sat in the bailiffs room, waiting to be put on a job. Mrs. Mooney, who had taken what remained of her money out of the butcher business and set up a boarding house in Hardwicke Street, was a big imposing woman. Her house had a floating population made up of tourists from Liverpool and the Isle of Man and, occasionally, artistes from the music halls. Its resident population was made up of clerks from the city. She governed the house cunningly and firmly, knew when to give credit, when to be stern and when to let things pass. All the resident young men spoke of her as The Madam. Mrs. Mooneys young men paid fifteen shillings a week for board and lodgings (beer or stout at dinner excluded). They shared in common tastes and occupations and for this reason they were very chummy with one another. They discussed with one another the chances of favourites and outsiders. Jack Mooney, the Madams son, who was clerk to a commission agent in Fleet Street, had the reputation of being a hard case. He was fond of using soldiers obscenities: usually he came home in the small hours. When he met his friends he had always a good one to tell them and he was always sure to be on to a good thing-that is to say, a likely horse or a likely artiste. He was also handy with the mits and sang comic songs. On Sunday nights there would often be a reunion in Mrs. Mooneys front drawing-room. The music-hall artistes would oblige; and Sheridan played waltzes and polkas and vamped accompaniments. Polly Mooney, the Madams daughter, would also sing. She sang: Im a naughty girl. You neednt sham: You know I am. Polly was a slim girl of nineteen; she had light soft hair and a small full mouth. Her eyes, which were grey with a shade of green through them, had a habit of glancing upwards when she spoke with anyone, which made her look like a little perverse madonna. Mrs. Mooney had first sent her daughter to be a typist in a corn-factors office but, as a disreputable sheriffs man used to come every other day to the office, asking to be allowed to say a word to his daughter, she had taken her daughter home again and set her to do housework. As Polly was very lively the intention was to give her the run of the young men. Besides young men like to feel that there is a young woman not very far away. Polly, of course, flirted with the young men but Mrs. Mooney, who was a shrewd judge, knew that the young men were only passing the time away: none of them meant business. Things went on so for a long time and Mrs. Mooney began to think of sending Polly back to typewriting when she noticed that something was going on between Polly and one of the young men. She watched the pair and kept her own counsel. Polly knew that she was being watched, but still her mothers persistent silence could not be misunderstood. There had been no open complicity between mother and daughter, no open understanding but, though people in the house began to talk of the affair, still Mrs. Mooney did not intervene. Polly began to grow a little strange in her manner and the young man was evidently perturbed. At last, when she judged it to be the right moment, Mrs. Mooney intervened. She dealt with moral problems as a cleaver deals with meat: and in this case she had made up her mind. It was a bright Sunday morning of early summer, promising heat, but with a fresh breeze blowing. All the windows of the boarding house were open and the lace curtains ballooned gently towards the street beneath the raised sashes. The belfry of Georges Church sent out constant peals and worshippers, singly or in groups, traversed the little circus before the church, revealing their purpose by their self-contained demeanour no less than by the little volumes in their gloved hands. Breakfast was over in the boarding house and the table of the breakfast-room was covered with plates on which lay yellow streaks of eggs with morsels of bacon-fat and bacon-rind. Mrs. Mooney sat in the straw arm-chair and watched the servant Mary remove the breakfast things. She mad Mary collect the crusts and pieces of broken bread to help to make Tuesdays bread- pudding. When the table was cleared, the broken bread collected, the sugar and butter safe under lock and key, she began to reconstruct the interview which she had had the night before with Polly. Things were as she had suspected: she had been frank in her questions and Polly had been frank in her answers. Both had been somewhat awkward, of course. She had been made awkward by her not wishing to receive the news in too cavalier a fashion or to seem to have connived and Polly had been made awkward not merely because allusions of that kind always made her awkward but also because she did not wish it to be thought that in her wise innocence she had divined the intention behind her mothers tolerance. Mrs. Mooney glanced instinctively at the little gilt clock on the mantelpiece as soon as she had become aware through her revery that the bells of Georges Church had stopped ringing. It was seventeen minutes past eleven: she would have lots of time to have the matter out with Mr. Doran and then catch short twelve at Marlborough Street. She was sure she would win. To begin with she had all the weight of social opinion on her side: she was an outraged mother. She had allowed him to live beneath her roof, assuming that he was a man of honour and he had simply abused her hospitality. He was thirty-four or thirty-five years of age, so that youth could not be pleaded as his excuse; nor could ignorance be his excuse since he was a man who had seen something of the world. He had simply taken advantage of Pollys youth and inexperience: that was evident. The question was: What reparation would he make? There must be reparation made in such case. It is all very well for the man: he can go his ways as if nothing had happened, having had his moment of pleasure, but the girl has to bear the brunt. Some mothers would be content to patch up such an affair for a sum of money; she had known cases of it. But she would not do so. For her only one reparation could make up for the loss of her daughters honour: marriage. She counted all her cards again before sending Mary up to Dorans room to say that she wished to speak with him. She felt sure she would win. He was a serious young man, not rakish or loud-voiced like the others. If it had been Mr. Sheridan or Mr. Meade or Bantam Lyons her task would have been much harder. She did not think he would face publicity. All the lodgers in the house knew something of the affair; details had been invented by some. Besides, he had been employed for thirteen years in a great Catholic wine-merchants office and publicity would mean for him, perhaps, the loss of his job. Whereas if he agreed all might be well. She knew he had a good screw for one thing and she suspected he had a bit of stuff put by. Nearly the half-hour! She stood up and surveyed herself in the pier-glass. The decisive expression of her great florid face satisfied her and she thought of some mothers she knew who could not get their daughters off their hands. Mr. Doran was very anxious indeed this Sunday morning. He had made two attempts to shave but his hand had been so unsteady that he had been obliged to desist. Three days reddish beard fringed his jaws and every two or three minutes a mist gathered on his glasses so that he had to take them off and polish them with his pocket-handkerchief. The recollection of his confession of the night before was a cause of acute pain to him; the priest had drawn out every ridiculous detail of the affair and in the end had so magnified his sin that he was almost thankful at being afforded a loophole of reparation. The harm was done. What could he do now but marry her or run away? He could not brazen it out. The affair would be sure to be talked of and his employer would be certain to hear of it. Dublin is such a small city: everyone knows everyone elses business. He felt his heart leap warmly in his throat as he heard in his excited imagination old Mr. Leonard calling out in his rasping voice: Send Mr. Doran here, please. All his long years of service gone for nothing! All his industry and diligence thrown away! As a young man he had sown his wild oats, of course; he had boasted of his free-thinking and denied the existence of God to his companions in public- houses. But that was all passed and done with... nearly. He still bought a copy of Reynoldss Newspaper every week but he attended to his religious duties and for nine-tenths of the year lived a regular life. He had money enough to settle down on; it was not that. But the family would look down on her. First of all there was her disreputable father and then her mothers boarding house was beginning to get a certain fame. He had a notion that he was being had. He could imagine his friends talking of the affair and laughing. She was a little vulgar; some times she said I seen and If I hadve known. But what would grammar matter if he really loved her? He could not make up his mind whether to like her or despise her for what she had done. Of course he had done it too. His instinct urged him to remain free, not to marry. Once you are married you are done for, it said. While he was sitting helplessly on the side of the bed in shirt and trousers she tapped lightly at his door and entered. She told him all, that she had made a clean breast of it to her mother and that her mother would speak with him that morning. She cried and threw her arms round his neck, saying: O Bob! Bob! What am I to do? What am I to do at all? She would put an end to herself, she said. He comforted her feebly, telling her not to cry, that it would be all right, never fear. He felt against his shirt the agitation of her bosom. It was not altogether his fault that it had happened. He remembered well, with the curious patient memory of the celibate, the first casual caresses her dress, her breath, her fingers had given him. Then late one night as he was undressing for she had tapped at his door, timidly. She wanted to relight her candle at his for hers had been blown out by a gust. It was her bath night. She wore a loose open combing- jacket of printed flannel. Her white instep shone in the opening of her furry slippers and the blood glowed warmly behind her perfumed skin. From her hands and wrists too as she lit and steadied her candle a faint perfume arose. On nights when he came in very late it was she who warmed up his dinner. He scarcely knew what he was eating feeling her beside him alone, at night, in the sleeping house. And her thoughtfulness! If the night was anyway cold or wet or windy there was sure to be a little tumbler of punch ready for him. Perhaps they could be happy together. They used to go upstairs together on tiptoe, each with a candle, and on the third landing exchange reluctant goodnights. They used to kiss. He remembered well her eyes, the touch of her hand and his delirium. But delirium passes. He echoed her phrase, applying it to himself: What am I to do? The instinct of the celibate warned him to hold back. But the sin was there; even his sense of honour told him that reparation must be made for such a sin. While he was sitting with her on the side of the bed Mary came to the door and said that the missus wanted to see him in the parlour. He stood up to put on his coat and waistcoat, more helpless than ever. When he was dressed he went over to her to comfort her. It would be all right, never fear. He left her crying on the bed and moaning softly: O my God! Going down the stairs his glasses became so dimmed with moisture that he had to take them off and polish them. He longed to ascend through the roof and fly away to another country where he would never hear again of his trouble, and yet a force pushed him downstairs step by step. The implacable faces of his employer and of the Madam stared upon his discomfiture. On the last flight of stairs he passed Jack Mooney who was coming up from the pantry nursing two bottles of Bass. They saluted coldly; and the lovers eyes rested for a second or two on a thick bulldog face and a pair of thick short arms. When he reached the foot of the staircase he glanced up and saw Jack regarding him from the door of the return-room. Suddenly he remembered the night when one of the musichall artistes, a little blond Londoner, had made a rather free allusion to Polly. The reunion had been almost broken up on account of Jacks violence. Everyone tried to quiet him. The music-hall artiste, a little paler than usual, kept smiling and saying that there was no harm meant: but Jack kept shouting at him that if any fellow tried that sort of a game on with his sister hed bloody well put his teeth down his throat, so he would. Polly sat for a little time on the side of the bed, crying. Then she dried her eyes and went over to the looking-glass. She dipped the end of the towel in the water-jug and refreshed her eyes with the cool water. She looked at herself in profile and readjusted a hairpin above her ear. Then she went back to the bed again and sat at the foot. She regarded the pillows for a long time and the sight of them awakened in her mind secret, amiable memories. She rested the nape of her neck against the cool iron bed-rail and fell into a reverie. There was no longer any perturbation visible on her face.\n",
            "She waited on patiently, almost cheerfully, without alarm. her memories gradually giving place to hopes and visions of the future. Her hopes and visions were so intricate that she no longer saw the white pillows on which her gaze was fixed or remembered that she was waiting for anything. At last she heard her mother calling. She started to her feet and ran to the banisters. Polly! Polly! Yes, mamma? Come down, dear. Mr. Doran wants to speak to you. Then she remembered what she had been waiting for.\n",
            "\n",
            "\n"
          ]
        }
      ],
      "source": [
        "\n",
        "# Open function to open the file \"the_boarding_house.txt\"\n",
        "# (same directory) in append mode and\n",
        "file1 = open(\"the_boarding_house.txt\",\"r+\")\n",
        "text = file1.read()\n",
        "print(text)"
      ]
    },
    {
      "cell_type": "markdown",
      "metadata": {
        "id": "-Ikf-qsqlmd0"
      },
      "source": [
        "# ***Convert letters to Lowercase since in our project there is No need to distinguish between capital and small letters***"
      ]
    },
    {
      "cell_type": "code",
      "execution_count": null,
      "metadata": {
        "colab": {
          "background_save": true,
          "base_uri": "https://localhost:8080/"
        },
        "id": "AuwvvPUHm-VK",
        "outputId": "e80b9e42-466e-4dbe-ebe3-9d79f07d963a"
      },
      "outputs": [
        {
          "name": "stdout",
          "output_type": "stream",
          "text": [
            "mrs. mooney was a butchers daughter. she was a woman who was quite able to keep things to herself: a determined woman. she had married her fathers foreman and opened a butchers shop near spring gardens. but as soon as his father-in-law was dead mr. mooney began to go to the devil. he drank, plundered the till, ran headlong into debt. it was no use making him take the pledge: he was sure to break out again a few days after. by fighting his wife in the presence of customers and by buying bad meat he ruined his business. one night he went for his wife with the cleaver and she had to sleep a neighbours house. after that they lived apart. she went to the priest and got a separation from him with care of the children. she would give him neither money nor food nor house-room; and so he was obliged to enlist himself as a sheriffs man. he was a shabby stooped little drunkard with a white face and a white moustache white eyebrows, pencilled above his little eyes, which were veined and raw; and all day long he sat in the bailiffs room, waiting to be put on a job. mrs. mooney, who had taken what remained of her money out of the butcher business and set up a boarding house in hardwicke street, was a big imposing woman. her house had a floating population made up of tourists from liverpool and the isle of man and, occasionally, artistes from the music halls. its resident population was made up of clerks from the city. she governed the house cunningly and firmly, knew when to give credit, when to be stern and when to let things pass. all the resident young men spoke of her as the madam. mrs. mooneys young men paid fifteen shillings a week for board and lodgings (beer or stout at dinner excluded). they shared in common tastes and occupations and for this reason they were very chummy with one another. they discussed with one another the chances of favourites and outsiders. jack mooney, the madams son, who was clerk to a commission agent in fleet street, had the reputation of being a hard case. he was fond of using soldiers obscenities: usually he came home in the small hours. when he met his friends he had always a good one to tell them and he was always sure to be on to a good thing-that is to say, a likely horse or a likely artiste. he was also handy with the mits and sang comic songs. on sunday nights there would often be a reunion in mrs. mooneys front drawing-room. the music-hall artistes would oblige; and sheridan played waltzes and polkas and vamped accompaniments. polly mooney, the madams daughter, would also sing. she sang: im a naughty girl. you neednt sham: you know i am. polly was a slim girl of nineteen; she had light soft hair and a small full mouth. her eyes, which were grey with a shade of green through them, had a habit of glancing upwards when she spoke with anyone, which made her look like a little perverse madonna. mrs. mooney had first sent her daughter to be a typist in a corn-factors office but, as a disreputable sheriffs man used to come every other day to the office, asking to be allowed to say a word to his daughter, she had taken her daughter home again and set her to do housework. as polly was very lively the intention was to give her the run of the young men. besides young men like to feel that there is a young woman not very far away. polly, of course, flirted with the young men but mrs. mooney, who was a shrewd judge, knew that the young men were only passing the time away: none of them meant business. things went on so for a long time and mrs. mooney began to think of sending polly back to typewriting when she noticed that something was going on between polly and one of the young men. she watched the pair and kept her own counsel. polly knew that she was being watched, but still her mothers persistent silence could not be misunderstood. there had been no open complicity between mother and daughter, no open understanding but, though people in the house began to talk of the affair, still mrs. mooney did not intervene. polly began to grow a little strange in her manner and the young man was evidently perturbed. at last, when she judged it to be the right moment, mrs. mooney intervened. she dealt with moral problems as a cleaver deals with meat: and in this case she had made up her mind. it was a bright sunday morning of early summer, promising heat, but with a fresh breeze blowing. all the windows of the boarding house were open and the lace curtains ballooned gently towards the street beneath the raised sashes. the belfry of georges church sent out constant peals and worshippers, singly or in groups, traversed the little circus before the church, revealing their purpose by their self-contained demeanour no less than by the little volumes in their gloved hands. breakfast was over in the boarding house and the table of the breakfast-room was covered with plates on which lay yellow streaks of eggs with morsels of bacon-fat and bacon-rind. mrs. mooney sat in the straw arm-chair and watched the servant mary remove the breakfast things. she mad mary collect the crusts and pieces of broken bread to help to make tuesdays bread- pudding. when the table was cleared, the broken bread collected, the sugar and butter safe under lock and key, she began to reconstruct the interview which she had had the night before with polly. things were as she had suspected: she had been frank in her questions and polly had been frank in her answers. both had been somewhat awkward, of course. she had been made awkward by her not wishing to receive the news in too cavalier a fashion or to seem to have connived and polly had been made awkward not merely because allusions of that kind always made her awkward but also because she did not wish it to be thought that in her wise innocence she had divined the intention behind her mothers tolerance. mrs. mooney glanced instinctively at the little gilt clock on the mantelpiece as soon as she had become aware through her revery that the bells of georges church had stopped ringing. it was seventeen minutes past eleven: she would have lots of time to have the matter out with mr. doran and then catch short twelve at marlborough street. she was sure she would win. to begin with she had all the weight of social opinion on her side: she was an outraged mother. she had allowed him to live beneath her roof, assuming that he was a man of honour and he had simply abused her hospitality. he was thirty-four or thirty-five years of age, so that youth could not be pleaded as his excuse; nor could ignorance be his excuse since he was a man who had seen something of the world. he had simply taken advantage of pollys youth and inexperience: that was evident. the question was: what reparation would he make? there must be reparation made in such case. it is all very well for the man: he can go his ways as if nothing had happened, having had his moment of pleasure, but the girl has to bear the brunt. some mothers would be content to patch up such an affair for a sum of money; she had known cases of it. but she would not do so. for her only one reparation could make up for the loss of her daughters honour: marriage. she counted all her cards again before sending mary up to dorans room to say that she wished to speak with him. she felt sure she would win. he was a serious young man, not rakish or loud-voiced like the others. if it had been mr. sheridan or mr. meade or bantam lyons her task would have been much harder. she did not think he would face publicity. all the lodgers in the house knew something of the affair; details had been invented by some. besides, he had been employed for thirteen years in a great catholic wine-merchants office and publicity would mean for him, perhaps, the loss of his job. whereas if he agreed all might be well. she knew he had a good screw for one thing and she suspected he had a bit of stuff put by. nearly the half-hour! she stood up and surveyed herself in the pier-glass. the decisive expression of her great florid face satisfied her and she thought of some mothers she knew who could not get their daughters off their hands. mr. doran was very anxious indeed this sunday morning. he had made two attempts to shave but his hand had been so unsteady that he had been obliged to desist. three days reddish beard fringed his jaws and every two or three minutes a mist gathered on his glasses so that he had to take them off and polish them with his pocket-handkerchief. the recollection of his confession of the night before was a cause of acute pain to him; the priest had drawn out every ridiculous detail of the affair and in the end had so magnified his sin that he was almost thankful at being afforded a loophole of reparation. the harm was done. what could he do now but marry her or run away? he could not brazen it out. the affair would be sure to be talked of and his employer would be certain to hear of it. dublin is such a small city: everyone knows everyone elses business. he felt his heart leap warmly in his throat as he heard in his excited imagination old mr. leonard calling out in his rasping voice: send mr. doran here, please. all his long years of service gone for nothing! all his industry and diligence thrown away! as a young man he had sown his wild oats, of course; he had boasted of his free-thinking and denied the existence of god to his companions in public- houses. but that was all passed and done with... nearly. he still bought a copy of reynoldss newspaper every week but he attended to his religious duties and for nine-tenths of the year lived a regular life. he had money enough to settle down on; it was not that. but the family would look down on her. first of all there was her disreputable father and then her mothers boarding house was beginning to get a certain fame. he had a notion that he was being had. he could imagine his friends talking of the affair and laughing. she was a little vulgar; some times she said i seen and if i hadve known. but what would grammar matter if he really loved her? he could not make up his mind whether to like her or despise her for what she had done. of course he had done it too. his instinct urged him to remain free, not to marry. once you are married you are done for, it said. while he was sitting helplessly on the side of the bed in shirt and trousers she tapped lightly at his door and entered. she told him all, that she had made a clean breast of it to her mother and that her mother would speak with him that morning. she cried and threw her arms round his neck, saying: o bob! bob! what am i to do? what am i to do at all? she would put an end to herself, she said. he comforted her feebly, telling her not to cry, that it would be all right, never fear. he felt against his shirt the agitation of her bosom. it was not altogether his fault that it had happened. he remembered well, with the curious patient memory of the celibate, the first casual caresses her dress, her breath, her fingers had given him. then late one night as he was undressing for she had tapped at his door, timidly. she wanted to relight her candle at his for hers had been blown out by a gust. it was her bath night. she wore a loose open combing- jacket of printed flannel. her white instep shone in the opening of her furry slippers and the blood glowed warmly behind her perfumed skin. from her hands and wrists too as she lit and steadied her candle a faint perfume arose. on nights when he came in very late it was she who warmed up his dinner. he scarcely knew what he was eating feeling her beside him alone, at night, in the sleeping house. and her thoughtfulness! if the night was anyway cold or wet or windy there was sure to be a little tumbler of punch ready for him. perhaps they could be happy together. they used to go upstairs together on tiptoe, each with a candle, and on the third landing exchange reluctant goodnights. they used to kiss. he remembered well her eyes, the touch of her hand and his delirium. but delirium passes. he echoed her phrase, applying it to himself: what am i to do? the instinct of the celibate warned him to hold back. but the sin was there; even his sense of honour told him that reparation must be made for such a sin. while he was sitting with her on the side of the bed mary came to the door and said that the missus wanted to see him in the parlour. he stood up to put on his coat and waistcoat, more helpless than ever. when he was dressed he went over to her to comfort her. it would be all right, never fear. he left her crying on the bed and moaning softly: o my god! going down the stairs his glasses became so dimmed with moisture that he had to take them off and polish them. he longed to ascend through the roof and fly away to another country where he would never hear again of his trouble, and yet a force pushed him downstairs step by step. the implacable faces of his employer and of the madam stared upon his discomfiture. on the last flight of stairs he passed jack mooney who was coming up from the pantry nursing two bottles of bass. they saluted coldly; and the lovers eyes rested for a second or two on a thick bulldog face and a pair of thick short arms. when he reached the foot of the staircase he glanced up and saw jack regarding him from the door of the return-room. suddenly he remembered the night when one of the musichall artistes, a little blond londoner, had made a rather free allusion to polly. the reunion had been almost broken up on account of jacks violence. everyone tried to quiet him. the music-hall artiste, a little paler than usual, kept smiling and saying that there was no harm meant: but jack kept shouting at him that if any fellow tried that sort of a game on with his sister hed bloody well put his teeth down his throat, so he would. polly sat for a little time on the side of the bed, crying. then she dried her eyes and went over to the looking-glass. she dipped the end of the towel in the water-jug and refreshed her eyes with the cool water. she looked at herself in profile and readjusted a hairpin above her ear. then she went back to the bed again and sat at the foot. she regarded the pillows for a long time and the sight of them awakened in her mind secret, amiable memories. she rested the nape of her neck against the cool iron bed-rail and fell into a reverie. there was no longer any perturbation visible on her face.\n",
            "she waited on patiently, almost cheerfully, without alarm. her memories gradually giving place to hopes and visions of the future. her hopes and visions were so intricate that she no longer saw the white pillows on which her gaze was fixed or remembered that she was waiting for anything. at last she heard her mother calling. she started to her feet and ran to the banisters. polly! polly! yes, mamma? come down, dear. mr. doran wants to speak to you. then she remembered what she had been waiting for.\n",
            "\n",
            "\n"
          ]
        }
      ],
      "source": [
        "#Lowercase out text\n",
        "text = text.lower()\n",
        "print(text)"
      ]
    },
    {
      "cell_type": "markdown",
      "metadata": {
        "id": "3uI26nbR3FYI"
      },
      "source": [
        "# ***Ignoring the “enter” command as determined in the project***"
      ]
    },
    {
      "cell_type": "code",
      "execution_count": null,
      "metadata": {
        "colab": {
          "background_save": true,
          "base_uri": "https://localhost:8080/"
        },
        "id": "dbtdj7ru3Dvo",
        "outputId": "384059f1-b698-479e-94ea-63a078183608"
      },
      "outputs": [
        {
          "name": "stdout",
          "output_type": "stream",
          "text": [
            "mrs. mooney was a butchers daughter. she was a woman who was quite able to keep things to herself: a determined woman. she had married her fathers foreman and opened a butchers shop near spring gardens. but as soon as his father-in-law was dead mr. mooney began to go to the devil. he drank, plundered the till, ran headlong into debt. it was no use making him take the pledge: he was sure to break out again a few days after. by fighting his wife in the presence of customers and by buying bad meat he ruined his business. one night he went for his wife with the cleaver and she had to sleep a neighbours house. after that they lived apart. she went to the priest and got a separation from him with care of the children. she would give him neither money nor food nor house-room; and so he was obliged to enlist himself as a sheriffs man. he was a shabby stooped little drunkard with a white face and a white moustache white eyebrows, pencilled above his little eyes, which were veined and raw; and all day long he sat in the bailiffs room, waiting to be put on a job. mrs. mooney, who had taken what remained of her money out of the butcher business and set up a boarding house in hardwicke street, was a big imposing woman. her house had a floating population made up of tourists from liverpool and the isle of man and, occasionally, artistes from the music halls. its resident population was made up of clerks from the city. she governed the house cunningly and firmly, knew when to give credit, when to be stern and when to let things pass. all the resident young men spoke of her as the madam. mrs. mooneys young men paid fifteen shillings a week for board and lodgings (beer or stout at dinner excluded). they shared in common tastes and occupations and for this reason they were very chummy with one another. they discussed with one another the chances of favourites and outsiders. jack mooney, the madams son, who was clerk to a commission agent in fleet street, had the reputation of being a hard case. he was fond of using soldiers obscenities: usually he came home in the small hours. when he met his friends he had always a good one to tell them and he was always sure to be on to a good thing-that is to say, a likely horse or a likely artiste. he was also handy with the mits and sang comic songs. on sunday nights there would often be a reunion in mrs. mooneys front drawing-room. the music-hall artistes would oblige; and sheridan played waltzes and polkas and vamped accompaniments. polly mooney, the madams daughter, would also sing. she sang: im a naughty girl. you neednt sham: you know i am. polly was a slim girl of nineteen; she had light soft hair and a small full mouth. her eyes, which were grey with a shade of green through them, had a habit of glancing upwards when she spoke with anyone, which made her look like a little perverse madonna. mrs. mooney had first sent her daughter to be a typist in a corn-factors office but, as a disreputable sheriffs man used to come every other day to the office, asking to be allowed to say a word to his daughter, she had taken her daughter home again and set her to do housework. as polly was very lively the intention was to give her the run of the young men. besides young men like to feel that there is a young woman not very far away. polly, of course, flirted with the young men but mrs. mooney, who was a shrewd judge, knew that the young men were only passing the time away: none of them meant business. things went on so for a long time and mrs. mooney began to think of sending polly back to typewriting when she noticed that something was going on between polly and one of the young men. she watched the pair and kept her own counsel. polly knew that she was being watched, but still her mothers persistent silence could not be misunderstood. there had been no open complicity between mother and daughter, no open understanding but, though people in the house began to talk of the affair, still mrs. mooney did not intervene. polly began to grow a little strange in her manner and the young man was evidently perturbed. at last, when she judged it to be the right moment, mrs. mooney intervened. she dealt with moral problems as a cleaver deals with meat: and in this case she had made up her mind. it was a bright sunday morning of early summer, promising heat, but with a fresh breeze blowing. all the windows of the boarding house were open and the lace curtains ballooned gently towards the street beneath the raised sashes. the belfry of georges church sent out constant peals and worshippers, singly or in groups, traversed the little circus before the church, revealing their purpose by their self-contained demeanour no less than by the little volumes in their gloved hands. breakfast was over in the boarding house and the table of the breakfast-room was covered with plates on which lay yellow streaks of eggs with morsels of bacon-fat and bacon-rind. mrs. mooney sat in the straw arm-chair and watched the servant mary remove the breakfast things. she mad mary collect the crusts and pieces of broken bread to help to make tuesdays bread- pudding. when the table was cleared, the broken bread collected, the sugar and butter safe under lock and key, she began to reconstruct the interview which she had had the night before with polly. things were as she had suspected: she had been frank in her questions and polly had been frank in her answers. both had been somewhat awkward, of course. she had been made awkward by her not wishing to receive the news in too cavalier a fashion or to seem to have connived and polly had been made awkward not merely because allusions of that kind always made her awkward but also because she did not wish it to be thought that in her wise innocence she had divined the intention behind her mothers tolerance. mrs. mooney glanced instinctively at the little gilt clock on the mantelpiece as soon as she had become aware through her revery that the bells of georges church had stopped ringing. it was seventeen minutes past eleven: she would have lots of time to have the matter out with mr. doran and then catch short twelve at marlborough street. she was sure she would win. to begin with she had all the weight of social opinion on her side: she was an outraged mother. she had allowed him to live beneath her roof, assuming that he was a man of honour and he had simply abused her hospitality. he was thirty-four or thirty-five years of age, so that youth could not be pleaded as his excuse; nor could ignorance be his excuse since he was a man who had seen something of the world. he had simply taken advantage of pollys youth and inexperience: that was evident. the question was: what reparation would he make? there must be reparation made in such case. it is all very well for the man: he can go his ways as if nothing had happened, having had his moment of pleasure, but the girl has to bear the brunt. some mothers would be content to patch up such an affair for a sum of money; she had known cases of it. but she would not do so. for her only one reparation could make up for the loss of her daughters honour: marriage. she counted all her cards again before sending mary up to dorans room to say that she wished to speak with him. she felt sure she would win. he was a serious young man, not rakish or loud-voiced like the others. if it had been mr. sheridan or mr. meade or bantam lyons her task would have been much harder. she did not think he would face publicity. all the lodgers in the house knew something of the affair; details had been invented by some. besides, he had been employed for thirteen years in a great catholic wine-merchants office and publicity would mean for him, perhaps, the loss of his job. whereas if he agreed all might be well. she knew he had a good screw for one thing and she suspected he had a bit of stuff put by. nearly the half-hour! she stood up and surveyed herself in the pier-glass. the decisive expression of her great florid face satisfied her and she thought of some mothers she knew who could not get their daughters off their hands. mr. doran was very anxious indeed this sunday morning. he had made two attempts to shave but his hand had been so unsteady that he had been obliged to desist. three days reddish beard fringed his jaws and every two or three minutes a mist gathered on his glasses so that he had to take them off and polish them with his pocket-handkerchief. the recollection of his confession of the night before was a cause of acute pain to him; the priest had drawn out every ridiculous detail of the affair and in the end had so magnified his sin that he was almost thankful at being afforded a loophole of reparation. the harm was done. what could he do now but marry her or run away? he could not brazen it out. the affair would be sure to be talked of and his employer would be certain to hear of it. dublin is such a small city: everyone knows everyone elses business. he felt his heart leap warmly in his throat as he heard in his excited imagination old mr. leonard calling out in his rasping voice: send mr. doran here, please. all his long years of service gone for nothing! all his industry and diligence thrown away! as a young man he had sown his wild oats, of course; he had boasted of his free-thinking and denied the existence of god to his companions in public- houses. but that was all passed and done with... nearly. he still bought a copy of reynoldss newspaper every week but he attended to his religious duties and for nine-tenths of the year lived a regular life. he had money enough to settle down on; it was not that. but the family would look down on her. first of all there was her disreputable father and then her mothers boarding house was beginning to get a certain fame. he had a notion that he was being had. he could imagine his friends talking of the affair and laughing. she was a little vulgar; some times she said i seen and if i hadve known. but what would grammar matter if he really loved her? he could not make up his mind whether to like her or despise her for what she had done. of course he had done it too. his instinct urged him to remain free, not to marry. once you are married you are done for, it said. while he was sitting helplessly on the side of the bed in shirt and trousers she tapped lightly at his door and entered. she told him all, that she had made a clean breast of it to her mother and that her mother would speak with him that morning. she cried and threw her arms round his neck, saying: o bob! bob! what am i to do? what am i to do at all? she would put an end to herself, she said. he comforted her feebly, telling her not to cry, that it would be all right, never fear. he felt against his shirt the agitation of her bosom. it was not altogether his fault that it had happened. he remembered well, with the curious patient memory of the celibate, the first casual caresses her dress, her breath, her fingers had given him. then late one night as he was undressing for she had tapped at his door, timidly. she wanted to relight her candle at his for hers had been blown out by a gust. it was her bath night. she wore a loose open combing- jacket of printed flannel. her white instep shone in the opening of her furry slippers and the blood glowed warmly behind her perfumed skin. from her hands and wrists too as she lit and steadied her candle a faint perfume arose. on nights when he came in very late it was she who warmed up his dinner. he scarcely knew what he was eating feeling her beside him alone, at night, in the sleeping house. and her thoughtfulness! if the night was anyway cold or wet or windy there was sure to be a little tumbler of punch ready for him. perhaps they could be happy together. they used to go upstairs together on tiptoe, each with a candle, and on the third landing exchange reluctant goodnights. they used to kiss. he remembered well her eyes, the touch of her hand and his delirium. but delirium passes. he echoed her phrase, applying it to himself: what am i to do? the instinct of the celibate warned him to hold back. but the sin was there; even his sense of honour told him that reparation must be made for such a sin. while he was sitting with her on the side of the bed mary came to the door and said that the missus wanted to see him in the parlour. he stood up to put on his coat and waistcoat, more helpless than ever. when he was dressed he went over to her to comfort her. it would be all right, never fear. he left her crying on the bed and moaning softly: o my god! going down the stairs his glasses became so dimmed with moisture that he had to take them off and polish them. he longed to ascend through the roof and fly away to another country where he would never hear again of his trouble, and yet a force pushed him downstairs step by step. the implacable faces of his employer and of the madam stared upon his discomfiture. on the last flight of stairs he passed jack mooney who was coming up from the pantry nursing two bottles of bass. they saluted coldly; and the lovers eyes rested for a second or two on a thick bulldog face and a pair of thick short arms. when he reached the foot of the staircase he glanced up and saw jack regarding him from the door of the return-room. suddenly he remembered the night when one of the musichall artistes, a little blond londoner, had made a rather free allusion to polly. the reunion had been almost broken up on account of jacks violence. everyone tried to quiet him. the music-hall artiste, a little paler than usual, kept smiling and saying that there was no harm meant: but jack kept shouting at him that if any fellow tried that sort of a game on with his sister hed bloody well put his teeth down his throat, so he would. polly sat for a little time on the side of the bed, crying. then she dried her eyes and went over to the looking-glass. she dipped the end of the towel in the water-jug and refreshed her eyes with the cool water. she looked at herself in profile and readjusted a hairpin above her ear. then she went back to the bed again and sat at the foot. she regarded the pillows for a long time and the sight of them awakened in her mind secret, amiable memories. she rested the nape of her neck against the cool iron bed-rail and fell into a reverie. there was no longer any perturbation visible on her face. she waited on patiently, almost cheerfully, without alarm. her memories gradually giving place to hopes and visions of the future. her hopes and visions were so intricate that she no longer saw the white pillows on which her gaze was fixed or remembered that she was waiting for anything. at last she heard her mother calling. she started to her feet and ran to the banisters. polly! polly! yes, mamma? come down, dear. mr. doran wants to speak to you. then she remembered what she had been waiting for.  \n"
          ]
        }
      ],
      "source": [
        "text = text.replace('\\n', ' ')\n",
        "\n",
        "print(text)"
      ]
    },
    {
      "cell_type": "markdown",
      "metadata": {
        "id": "CE5BBpmencBL"
      },
      "source": [
        "# ***Creat a dictionary with frequency of each symbols***"
      ]
    },
    {
      "cell_type": "code",
      "execution_count": null,
      "metadata": {
        "colab": {
          "background_save": true,
          "base_uri": "https://localhost:8080/"
        },
        "id": "6stWb0THhtGN",
        "outputId": "54ddd737-e1bb-4a5b-bb27-e9c79067d8c1"
      },
      "outputs": [
        {
          "name": "stdout",
          "output_type": "stream",
          "text": [
            "Frequency of occurrence for each character:\n",
            "defaultdict(<class 'int'>, {'m': 318, 'r': 683, 's': 789, '.': 172, ' ': 2787, 'o': 893, 'n': 791, 'e': 1525, 'y': 209, 'w': 301, 'a': 974, 'b': 204, 'u': 310, 't': 981, 'c': 239, 'h': 893, 'd': 549, 'g': 259, 'q': 4, 'i': 703, 'l': 473, 'k': 96, 'p': 196, 'f': 269, ':': 20, '-': 29, 'v': 85, ',': 85, ';': 13, 'j': 13, '(': 1, 'x': 10, ')': 1, 'z': 4, '?': 7, '!': 9})\n"
          ]
        }
      ],
      "source": [
        "freq_lib = defaultdict(int)         #generate a default library\n",
        "for ch in text:                     #count each letter and record into the frequency library\n",
        "  freq_lib[ch]+=1\n",
        "\n",
        "print(\"Frequency of occurrence for each character:\")\n",
        "print(freq_lib)\n"
      ]
    },
    {
      "cell_type": "markdown",
      "metadata": {
        "id": "6rBpb_crCpMA"
      },
      "source": [
        "# ***Probabilities of the characters in the story***"
      ]
    },
    {
      "cell_type": "code",
      "execution_count": null,
      "metadata": {
        "colab": {
          "base_uri": "https://localhost:8080/"
        },
        "id": "HV6fkMjSCq4S",
        "outputId": "75bfdc02-9a14-4509-f354-aa4f54dcbf02"
      },
      "outputs": [
        {
          "name": "stdout",
          "output_type": "stream",
          "text": [
            "Probability of each character: \n",
            "defaultdict(<class 'int'>, {'m': 0.021349446122860022, 'r': 0.04585431352802954, 's': 0.05297079556898288, '.': 0.011547499160792212, ' ': 0.18710976837865056, 'o': 0.0599530043638805, 'n': 0.053105068815038604, 'e': 0.10238335011748909, 'y': 0.014031554212823096, 'w': 0.02020812353138637, 'a': 0.0653910708291373, 'b': 0.013695871097683786, 'u': 0.02081235313863713, 't': 0.06586102719033232, 'c': 0.016045652903658947, 'h': 0.0599530043638805, 'd': 0.036858006042296075, 'g': 0.01738838536421618, 'q': 0.0002685464921114468, 'i': 0.047197045988586775, 'l': 0.03175562269217858, 'k': 0.006445115810674723, 'p': 0.013158778113460893, 'f': 0.018059751594494796, ':': 0.001342732460557234, '-': 0.0019469620678079893, 'v': 0.005706612957368244, ',': 0.005706612957368244, ';': 0.0008727760993622021, 'j': 0.0008727760993622021, '(': 6.71366230278617e-05, 'x': 0.000671366230278617, ')': 6.71366230278617e-05, 'z': 0.0002685464921114468, '?': 0.0004699563611950319, '!': 0.0006042296072507553})\n"
          ]
        }
      ],
      "source": [
        "prop_lib = defaultdict(int)  \n",
        "num_of_all_ch = len(text)\n",
        "for ch in text:\n",
        "  prop_lib[ch] = freq_lib[ch] / num_of_all_ch\n",
        "\n",
        "print(\"Probability of each character: \")\n",
        "print(prop_lib)"
      ]
    },
    {
      "cell_type": "markdown",
      "metadata": {
        "id": "0VuI50Bvnx_v"
      },
      "source": [
        "# ***Create Huffman Tree***"
      ]
    },
    {
      "cell_type": "code",
      "execution_count": null,
      "metadata": {
        "colab": {
          "background_save": true,
          "base_uri": "https://localhost:8080/"
        },
        "id": "YcGklkuPn1CJ",
        "outputId": "f8e51c19-baf6-416c-986c-8510c3500493"
      },
      "outputs": [
        {
          "name": "stdout",
          "output_type": "stream",
          "text": [
            "[[318, ['m', '']], [683, ['r', '']], [789, ['s', '']], [172, ['.', '']], [2787, [' ', '']], [893, ['o', '']], [791, ['n', '']], [1525, ['e', '']], [209, ['y', '']], [301, ['w', '']], [974, ['a', '']], [204, ['b', '']], [310, ['u', '']], [981, ['t', '']], [239, ['c', '']], [893, ['h', '']], [549, ['d', '']], [259, ['g', '']], [4, ['q', '']], [703, ['i', '']], [473, ['l', '']], [96, ['k', '']], [196, ['p', '']], [269, ['f', '']], [20, [':', '']], [29, ['-', '']], [85, ['v', '']], [85, [',', '']], [13, [';', '']], [13, ['j', '']], [1, ['(', '']], [10, ['x', '']], [1, [')', '']], [4, ['z', '']], [7, ['?', '']], [9, ['!', '']]]\n"
          ]
        }
      ],
      "source": [
        "heap = [[count, [sym, \"\"]] for sym, count in freq_lib.items()]   # '' for entering the huffman code later,  sym for symbol\n",
        "print(heap)"
      ]
    },
    {
      "cell_type": "code",
      "execution_count": null,
      "metadata": {
        "colab": {
          "background_save": true,
          "base_uri": "https://localhost:8080/"
        },
        "id": "9yEOWr1cpV6G",
        "outputId": "b0b494a1-fbcc-475a-a321-a17cf151bc2b"
      },
      "outputs": [
        {
          "name": "stdout",
          "output_type": "stream",
          "text": [
            "[[1, ['(', '']], [1, [')', '']], [13, [';', '']], [4, ['q', '']], [96, ['k', '']], [20, [':', '']], [13, ['j', '']], [4, ['z', '']], [9, ['!', '']], [301, ['w', '']], [196, ['p', '']], [204, ['b', '']], [29, ['-', '']], [85, [',', '']], [239, ['c', '']], [10, ['x', '']], [7, ['?', '']], [259, ['g', '']], [209, ['y', '']], [703, ['i', '']], [473, ['l', '']], [974, ['a', '']], [2787, [' ', '']], [269, ['f', '']], [893, ['o', '']], [310, ['u', '']], [85, ['v', '']], [789, ['s', '']], [981, ['t', '']], [791, ['n', '']], [318, ['m', '']], [1525, ['e', '']], [893, ['h', '']], [549, ['d', '']], [172, ['.', '']], [683, ['r', '']]]\n"
          ]
        }
      ],
      "source": [
        "heapify(heap)  #transform the list into a heap tree structure\n",
        "print(heap)"
      ]
    },
    {
      "cell_type": "code",
      "execution_count": null,
      "metadata": {
        "colab": {
          "background_save": true,
          "base_uri": "https://localhost:8080/"
        },
        "id": "4fB1mtjoppM2",
        "outputId": "8157ec69-5c0c-40ae-ef91-3c49db22ada3"
      },
      "outputs": [
        {
          "name": "stdout",
          "output_type": "stream",
          "text": [
            "right =  [1, ['(', '']]\n",
            "left =  [1, [')', '']]\n",
            "right add zero =  [1, ['(', '0']]\n",
            "left add one =  [1, [')', '1']]\n",
            "\n",
            "right =  [2, ['(', '0'], [')', '1']]\n",
            "left =  [4, ['q', '']]\n",
            "right add zero =  [2, ['(', '00'], [')', '01']]\n",
            "left add one =  [4, ['q', '1']]\n",
            "\n",
            "right =  [4, ['z', '']]\n",
            "left =  [6, ['(', '00'], [')', '01'], ['q', '1']]\n",
            "right add zero =  [4, ['z', '0']]\n",
            "left add one =  [6, ['(', '100'], [')', '101'], ['q', '11']]\n",
            "\n",
            "right =  [7, ['?', '']]\n",
            "left =  [9, ['!', '']]\n",
            "right add zero =  [7, ['?', '0']]\n",
            "left add one =  [9, ['!', '1']]\n",
            "\n",
            "right =  [10, ['x', '']]\n",
            "left =  [10, ['z', '0'], ['(', '100'], [')', '101'], ['q', '11']]\n",
            "right add zero =  [10, ['x', '0']]\n",
            "left add one =  [10, ['z', '10'], ['(', '1100'], [')', '1101'], ['q', '111']]\n",
            "\n",
            "right =  [13, [';', '']]\n",
            "left =  [13, ['j', '']]\n",
            "right add zero =  [13, [';', '0']]\n",
            "left add one =  [13, ['j', '1']]\n",
            "\n",
            "right =  [16, ['?', '0'], ['!', '1']]\n",
            "left =  [20, [':', '']]\n",
            "right add zero =  [16, ['?', '00'], ['!', '01']]\n",
            "left add one =  [20, [':', '1']]\n",
            "\n",
            "right =  [20, ['x', '0'], ['z', '10'], ['(', '1100'], [')', '1101'], ['q', '111']]\n",
            "left =  [26, [';', '0'], ['j', '1']]\n",
            "right add zero =  [20, ['x', '00'], ['z', '010'], ['(', '01100'], [')', '01101'], ['q', '0111']]\n",
            "left add one =  [26, [';', '10'], ['j', '11']]\n",
            "\n",
            "right =  [29, ['-', '']]\n",
            "left =  [36, ['?', '00'], ['!', '01'], [':', '1']]\n",
            "right add zero =  [29, ['-', '0']]\n",
            "left add one =  [36, ['?', '100'], ['!', '101'], [':', '11']]\n",
            "\n",
            "right =  [46, ['x', '00'], ['z', '010'], ['(', '01100'], [')', '01101'], ['q', '0111'], [';', '10'], ['j', '11']]\n",
            "left =  [65, ['-', '0'], ['?', '100'], ['!', '101'], [':', '11']]\n",
            "right add zero =  [46, ['x', '000'], ['z', '0010'], ['(', '001100'], [')', '001101'], ['q', '00111'], [';', '010'], ['j', '011']]\n",
            "left add one =  [65, ['-', '10'], ['?', '1100'], ['!', '1101'], [':', '111']]\n",
            "\n",
            "right =  [85, [',', '']]\n",
            "left =  [85, ['v', '']]\n",
            "right add zero =  [85, [',', '0']]\n",
            "left add one =  [85, ['v', '1']]\n",
            "\n",
            "right =  [96, ['k', '']]\n",
            "left =  [111, ['x', '000'], ['z', '0010'], ['(', '001100'], [')', '001101'], ['q', '00111'], [';', '010'], ['j', '011'], ['-', '10'], ['?', '1100'], ['!', '1101'], [':', '111']]\n",
            "right add zero =  [96, ['k', '0']]\n",
            "left add one =  [111, ['x', '1000'], ['z', '10010'], ['(', '1001100'], [')', '1001101'], ['q', '100111'], [';', '1010'], ['j', '1011'], ['-', '110'], ['?', '11100'], ['!', '11101'], [':', '1111']]\n",
            "\n",
            "right =  [170, [',', '0'], ['v', '1']]\n",
            "left =  [172, ['.', '']]\n",
            "right add zero =  [170, [',', '00'], ['v', '01']]\n",
            "left add one =  [172, ['.', '1']]\n",
            "\n",
            "right =  [196, ['p', '']]\n",
            "left =  [204, ['b', '']]\n",
            "right add zero =  [196, ['p', '0']]\n",
            "left add one =  [204, ['b', '1']]\n",
            "\n",
            "right =  [207, ['k', '0'], ['x', '1000'], ['z', '10010'], ['(', '1001100'], [')', '1001101'], ['q', '100111'], [';', '1010'], ['j', '1011'], ['-', '110'], ['?', '11100'], ['!', '11101'], [':', '1111']]\n",
            "left =  [209, ['y', '']]\n",
            "right add zero =  [207, ['k', '00'], ['x', '01000'], ['z', '010010'], ['(', '01001100'], [')', '01001101'], ['q', '0100111'], [';', '01010'], ['j', '01011'], ['-', '0110'], ['?', '011100'], ['!', '011101'], [':', '01111']]\n",
            "left add one =  [209, ['y', '1']]\n",
            "\n",
            "right =  [239, ['c', '']]\n",
            "left =  [259, ['g', '']]\n",
            "right add zero =  [239, ['c', '0']]\n",
            "left add one =  [259, ['g', '1']]\n",
            "\n",
            "right =  [269, ['f', '']]\n",
            "left =  [301, ['w', '']]\n",
            "right add zero =  [269, ['f', '0']]\n",
            "left add one =  [301, ['w', '1']]\n",
            "\n",
            "right =  [310, ['u', '']]\n",
            "left =  [318, ['m', '']]\n",
            "right add zero =  [310, ['u', '0']]\n",
            "left add one =  [318, ['m', '1']]\n",
            "\n",
            "right =  [342, [',', '00'], ['v', '01'], ['.', '1']]\n",
            "left =  [400, ['p', '0'], ['b', '1']]\n",
            "right add zero =  [342, [',', '000'], ['v', '001'], ['.', '01']]\n",
            "left add one =  [400, ['p', '10'], ['b', '11']]\n",
            "\n",
            "right =  [416, ['k', '00'], ['x', '01000'], ['z', '010010'], ['(', '01001100'], [')', '01001101'], ['q', '0100111'], [';', '01010'], ['j', '01011'], ['-', '0110'], ['?', '011100'], ['!', '011101'], [':', '01111'], ['y', '1']]\n",
            "left =  [473, ['l', '']]\n",
            "right add zero =  [416, ['k', '000'], ['x', '001000'], ['z', '0010010'], ['(', '001001100'], [')', '001001101'], ['q', '00100111'], [';', '001010'], ['j', '001011'], ['-', '00110'], ['?', '0011100'], ['!', '0011101'], [':', '001111'], ['y', '01']]\n",
            "left add one =  [473, ['l', '1']]\n",
            "\n",
            "right =  [498, ['c', '0'], ['g', '1']]\n",
            "left =  [549, ['d', '']]\n",
            "right add zero =  [498, ['c', '00'], ['g', '01']]\n",
            "left add one =  [549, ['d', '1']]\n",
            "\n",
            "right =  [570, ['f', '0'], ['w', '1']]\n",
            "left =  [628, ['u', '0'], ['m', '1']]\n",
            "right add zero =  [570, ['f', '00'], ['w', '01']]\n",
            "left add one =  [628, ['u', '10'], ['m', '11']]\n",
            "\n",
            "right =  [683, ['r', '']]\n",
            "left =  [703, ['i', '']]\n",
            "right add zero =  [683, ['r', '0']]\n",
            "left add one =  [703, ['i', '1']]\n",
            "\n",
            "right =  [742, [',', '000'], ['v', '001'], ['.', '01'], ['p', '10'], ['b', '11']]\n",
            "left =  [789, ['s', '']]\n",
            "right add zero =  [742, [',', '0000'], ['v', '0001'], ['.', '001'], ['p', '010'], ['b', '011']]\n",
            "left add one =  [789, ['s', '1']]\n",
            "\n",
            "right =  [791, ['n', '']]\n",
            "left =  [889, ['k', '000'], ['x', '001000'], ['z', '0010010'], ['(', '001001100'], [')', '001001101'], ['q', '00100111'], [';', '001010'], ['j', '001011'], ['-', '00110'], ['?', '0011100'], ['!', '0011101'], [':', '001111'], ['y', '01'], ['l', '1']]\n",
            "right add zero =  [791, ['n', '0']]\n",
            "left add one =  [889, ['k', '1000'], ['x', '1001000'], ['z', '10010010'], ['(', '1001001100'], [')', '1001001101'], ['q', '100100111'], [';', '1001010'], ['j', '1001011'], ['-', '100110'], ['?', '10011100'], ['!', '10011101'], [':', '1001111'], ['y', '101'], ['l', '11']]\n",
            "\n",
            "right =  [893, ['h', '']]\n",
            "left =  [893, ['o', '']]\n",
            "right add zero =  [893, ['h', '0']]\n",
            "left add one =  [893, ['o', '1']]\n",
            "\n",
            "right =  [974, ['a', '']]\n",
            "left =  [981, ['t', '']]\n",
            "right add zero =  [974, ['a', '0']]\n",
            "left add one =  [981, ['t', '1']]\n",
            "\n",
            "right =  [1047, ['c', '00'], ['g', '01'], ['d', '1']]\n",
            "left =  [1198, ['f', '00'], ['w', '01'], ['u', '10'], ['m', '11']]\n",
            "right add zero =  [1047, ['c', '000'], ['g', '001'], ['d', '01']]\n",
            "left add one =  [1198, ['f', '100'], ['w', '101'], ['u', '110'], ['m', '111']]\n",
            "\n",
            "right =  [1386, ['r', '0'], ['i', '1']]\n",
            "left =  [1525, ['e', '']]\n",
            "right add zero =  [1386, ['r', '00'], ['i', '01']]\n",
            "left add one =  [1525, ['e', '1']]\n",
            "\n",
            "right =  [1531, [',', '0000'], ['v', '0001'], ['.', '001'], ['p', '010'], ['b', '011'], ['s', '1']]\n",
            "left =  [1680, ['n', '0'], ['k', '1000'], ['x', '1001000'], ['z', '10010010'], ['(', '1001001100'], [')', '1001001101'], ['q', '100100111'], [';', '1001010'], ['j', '1001011'], ['-', '100110'], ['?', '10011100'], ['!', '10011101'], [':', '1001111'], ['y', '101'], ['l', '11']]\n",
            "right add zero =  [1531, [',', '00000'], ['v', '00001'], ['.', '0001'], ['p', '0010'], ['b', '0011'], ['s', '01']]\n",
            "left add one =  [1680, ['n', '10'], ['k', '11000'], ['x', '11001000'], ['z', '110010010'], ['(', '11001001100'], [')', '11001001101'], ['q', '1100100111'], [';', '11001010'], ['j', '11001011'], ['-', '1100110'], ['?', '110011100'], ['!', '110011101'], [':', '11001111'], ['y', '1101'], ['l', '111']]\n",
            "\n",
            "right =  [1786, ['h', '0'], ['o', '1']]\n",
            "left =  [1955, ['a', '0'], ['t', '1']]\n",
            "right add zero =  [1786, ['h', '00'], ['o', '01']]\n",
            "left add one =  [1955, ['a', '10'], ['t', '11']]\n",
            "\n",
            "right =  [2245, ['c', '000'], ['g', '001'], ['d', '01'], ['f', '100'], ['w', '101'], ['u', '110'], ['m', '111']]\n",
            "left =  [2787, [' ', '']]\n",
            "right add zero =  [2245, ['c', '0000'], ['g', '0001'], ['d', '001'], ['f', '0100'], ['w', '0101'], ['u', '0110'], ['m', '0111']]\n",
            "left add one =  [2787, [' ', '1']]\n",
            "\n",
            "right =  [2911, ['r', '00'], ['i', '01'], ['e', '1']]\n",
            "left =  [3211, [',', '00000'], ['v', '00001'], ['.', '0001'], ['p', '0010'], ['b', '0011'], ['s', '01'], ['n', '10'], ['k', '11000'], ['x', '11001000'], ['z', '110010010'], ['(', '11001001100'], [')', '11001001101'], ['q', '1100100111'], [';', '11001010'], ['j', '11001011'], ['-', '1100110'], ['?', '110011100'], ['!', '110011101'], [':', '11001111'], ['y', '1101'], ['l', '111']]\n",
            "right add zero =  [2911, ['r', '000'], ['i', '001'], ['e', '01']]\n",
            "left add one =  [3211, [',', '100000'], ['v', '100001'], ['.', '10001'], ['p', '10010'], ['b', '10011'], ['s', '101'], ['n', '110'], ['k', '111000'], ['x', '111001000'], ['z', '1110010010'], ['(', '111001001100'], [')', '111001001101'], ['q', '11100100111'], [';', '111001010'], ['j', '111001011'], ['-', '11100110'], ['?', '1110011100'], ['!', '1110011101'], [':', '111001111'], ['y', '11101'], ['l', '1111']]\n",
            "\n",
            "right =  [3741, ['h', '00'], ['o', '01'], ['a', '10'], ['t', '11']]\n",
            "left =  [5032, ['c', '0000'], ['g', '0001'], ['d', '001'], ['f', '0100'], ['w', '0101'], ['u', '0110'], ['m', '0111'], [' ', '1']]\n",
            "right add zero =  [3741, ['h', '000'], ['o', '001'], ['a', '010'], ['t', '011']]\n",
            "left add one =  [5032, ['c', '10000'], ['g', '10001'], ['d', '1001'], ['f', '10100'], ['w', '10101'], ['u', '10110'], ['m', '10111'], [' ', '11']]\n",
            "\n",
            "right =  [6122, ['r', '000'], ['i', '001'], ['e', '01'], [',', '100000'], ['v', '100001'], ['.', '10001'], ['p', '10010'], ['b', '10011'], ['s', '101'], ['n', '110'], ['k', '111000'], ['x', '111001000'], ['z', '1110010010'], ['(', '111001001100'], [')', '111001001101'], ['q', '11100100111'], [';', '111001010'], ['j', '111001011'], ['-', '11100110'], ['?', '1110011100'], ['!', '1110011101'], [':', '111001111'], ['y', '11101'], ['l', '1111']]\n",
            "left =  [8773, ['h', '000'], ['o', '001'], ['a', '010'], ['t', '011'], ['c', '10000'], ['g', '10001'], ['d', '1001'], ['f', '10100'], ['w', '10101'], ['u', '10110'], ['m', '10111'], [' ', '11']]\n",
            "right add zero =  [6122, ['r', '0000'], ['i', '0001'], ['e', '001'], [',', '0100000'], ['v', '0100001'], ['.', '010001'], ['p', '010010'], ['b', '010011'], ['s', '0101'], ['n', '0110'], ['k', '0111000'], ['x', '0111001000'], ['z', '01110010010'], ['(', '0111001001100'], [')', '0111001001101'], ['q', '011100100111'], [';', '0111001010'], ['j', '0111001011'], ['-', '011100110'], ['?', '01110011100'], ['!', '01110011101'], [':', '0111001111'], ['y', '011101'], ['l', '01111']]\n",
            "left add one =  [8773, ['h', '1000'], ['o', '1001'], ['a', '1010'], ['t', '1011'], ['c', '110000'], ['g', '110001'], ['d', '11001'], ['f', '110100'], ['w', '110101'], ['u', '110110'], ['m', '110111'], [' ', '111']]\n",
            "\n"
          ]
        }
      ],
      "source": [
        "while len(heap) > 1:\n",
        "  right = heappop(heap)         #pop and return the smallest item from the heap\n",
        "  print('right = ', right)\n",
        "  left = heappop(heap)          \n",
        "  print('left = ', left)\n",
        "\n",
        "  for pair in right[1:]:\n",
        "    pair[1] = '0' + pair[1]      #add zero to all right branch\n",
        "  print('right add zero = ', right)\n",
        "  for pair in left[1:]:\n",
        "    pair[1] = '1' + pair[1]      #add one to all right node\n",
        "  print('left add one = ', left)\n",
        "  print('')\n",
        "\n",
        "  heappush(heap, [right[0] + left[0]] + right[1:]+ left[1:])   #add values onto the heap"
      ]
    },
    {
      "cell_type": "code",
      "execution_count": null,
      "metadata": {
        "colab": {
          "background_save": true,
          "base_uri": "https://localhost:8080/"
        },
        "id": "GeF65CL40UV_",
        "outputId": "e0464d19-cc77-440d-b84f-559b34d12700"
      },
      "outputs": [
        {
          "name": "stdout",
          "output_type": "stream",
          "text": [
            "[['r', '0000'], ['i', '0001'], ['e', '001'], [',', '0100000'], ['v', '0100001'], ['.', '010001'], ['p', '010010'], ['b', '010011'], ['s', '0101'], ['n', '0110'], ['k', '0111000'], ['x', '0111001000'], ['z', '01110010010'], ['(', '0111001001100'], [')', '0111001001101'], ['q', '011100100111'], [';', '0111001010'], ['j', '0111001011'], ['-', '011100110'], ['?', '01110011100'], ['!', '01110011101'], [':', '0111001111'], ['y', '011101'], ['l', '01111'], ['h', '1000'], ['o', '1001'], ['a', '1010'], ['t', '1011'], ['c', '110000'], ['g', '110001'], ['d', '11001'], ['f', '110100'], ['w', '110101'], ['u', '110110'], ['m', '110111'], [' ', '111']]\n",
            "{'r': bitarray('0000'), 'i': bitarray('0001'), 'e': bitarray('001'), ',': bitarray('0100000'), 'v': bitarray('0100001'), '.': bitarray('010001'), 'p': bitarray('010010'), 'b': bitarray('010011'), 's': bitarray('0101'), 'n': bitarray('0110'), 'k': bitarray('0111000'), 'x': bitarray('0111001000'), 'z': bitarray('01110010010'), '(': bitarray('0111001001100'), ')': bitarray('0111001001101'), 'q': bitarray('011100100111'), ';': bitarray('0111001010'), 'j': bitarray('0111001011'), '-': bitarray('011100110'), '?': bitarray('01110011100'), '!': bitarray('01110011101'), ':': bitarray('0111001111'), 'y': bitarray('011101'), 'l': bitarray('01111'), 'h': bitarray('1000'), 'o': bitarray('1001'), 'a': bitarray('1010'), 't': bitarray('1011'), 'c': bitarray('110000'), 'g': bitarray('110001'), 'd': bitarray('11001'), 'f': bitarray('110100'), 'w': bitarray('110101'), 'u': bitarray('110110'), 'm': bitarray('110111'), ' ': bitarray('111')}\n"
          ]
        }
      ],
      "source": [
        "huffman_list = right[1:] + left[1:]     #ignore the first item because the first item represent the count(frequency)\n",
        "print(huffman_list)\n",
        "\n",
        "huffman_dict = {a[0]:bitarray(str(a[1])) for a in huffman_list}\n",
        "print(huffman_dict)"
      ]
    },
    {
      "cell_type": "markdown",
      "metadata": {
        "id": "TpjvcTT4K7cr"
      },
      "source": [
        "# ***Huffman Code Table***"
      ]
    },
    {
      "cell_type": "code",
      "execution_count": null,
      "metadata": {
        "colab": {
          "background_save": true,
          "base_uri": "https://localhost:8080/"
        },
        "id": "sfXF3QKMHYrW",
        "outputId": "24761f4f-1bc8-450d-9d03-bbdc38d13789"
      },
      "outputs": [
        {
          "name": "stdout",
          "output_type": "stream",
          "text": [
            "The codewords for the characters: \n",
            "Symbol   Frequency  Probability               Codeword        Length of codeword in bits\n",
            "r        683        0.04585431352802954       0000                 4       \n",
            "i        703        0.047197045988586775      0001                 4       \n",
            "e        1525       0.10238335011748909       001                  3       \n",
            ",        85         0.005706612957368244      0100000              7       \n",
            "v        85         0.005706612957368244      0100001              7       \n",
            ".        172        0.011547499160792212      010001               6       \n",
            "p        196        0.013158778113460893      010010               6       \n",
            "b        204        0.013695871097683786      010011               6       \n",
            "s        789        0.05297079556898288       0101                 4       \n",
            "n        791        0.053105068815038604      0110                 4       \n",
            "k        96         0.006445115810674723      0111000              7       \n",
            "x        10         0.000671366230278617      0111001000           10      \n",
            "z        4          0.0002685464921114468     01110010010          11      \n",
            "(        1          6.71366230278617e-05      0111001001100        13      \n",
            ")        1          6.71366230278617e-05      0111001001101        13      \n",
            "q        4          0.0002685464921114468     011100100111         12      \n",
            ";        13         0.0008727760993622021     0111001010           10      \n",
            "j        13         0.0008727760993622021     0111001011           10      \n",
            "-        29         0.0019469620678079893     011100110            9       \n",
            "?        7          0.0004699563611950319     01110011100          11      \n",
            "!        9          0.0006042296072507553     01110011101          11      \n",
            ":        20         0.001342732460557234      0111001111           10      \n",
            "y        209        0.014031554212823096      011101               6       \n",
            "l        473        0.03175562269217858       01111                5       \n",
            "h        893        0.0599530043638805        1000                 4       \n",
            "o        893        0.0599530043638805        1001                 4       \n",
            "a        974        0.0653910708291373        1010                 4       \n",
            "t        981        0.06586102719033232       1011                 4       \n",
            "c        239        0.016045652903658947      110000               6       \n",
            "g        259        0.01738838536421618       110001               6       \n",
            "d        549        0.036858006042296075      11001                5       \n",
            "f        269        0.018059751594494796      110100               6       \n",
            "w        301        0.02020812353138637       110101               6       \n",
            "u        310        0.02081235313863713       110110               6       \n",
            "m        318        0.021349446122860022      110111               6       \n",
            "         2787       0.18710976837865056       111                  3       \n"
          ]
        }
      ],
      "source": [
        "print(\"The codewords for the characters: \")\n",
        "print (\"{:<8} {:<10} {:<25} {:<15} {:<8}\".format('Symbol','Frequency','Probability','Codeword', 'Length of codeword in bits'))\n",
        "for v in huffman_list:\n",
        "  print (\"{:<8} {:<10} {:<25} {:<20} {:<8}\".format(v[0],freq_lib[v[0]], prop_lib[v[0]], v[1], len(v[1])))"
      ]
    },
    {
      "cell_type": "markdown",
      "metadata": {
        "id": "8N52S_oe2G4y"
      },
      "source": [
        "# ***Huffman Encoding***"
      ]
    },
    {
      "cell_type": "code",
      "execution_count": null,
      "metadata": {
        "colab": {
          "background_save": true,
          "base_uri": "https://localhost:8080/"
        },
        "id": "QqUP1wvI2JxN",
        "outputId": "315fd2ed-16ba-4403-9c3e-8175a5c70825"
      },
      "outputs": [
        {
          "name": "stdout",
          "output_type": "stream",
          "text": [
            "bitarray('1101110000010101000111111011110011001011000101110111111010110100101111101011101001111011010111100001000001000001011111100110101101101100011000101100100000100011110101100000111111010110100101111101011111010110011101111010011011111010110001001111110101101001011110111001001111101100001101100111110100100110111100111110111001111011100000100101001011110111000000101101100010101111101110011111000001000001010010111111010001110011111111010111110010011011001000011011100010110001110011111101011001110111101001100100011110101100000111110001010110011111101111010000000000001001110011111000001000011111010010101011100000100000101111110100100100000011101111010011011110100110110011111001010010001011000111001111101011101001111011010111100001000001000001011110101100010010100101110110001101000001110101010010000000010110110001111110001101000001100100101100101010001111010011110110101111110100101111010110011001011011110100101111100000010101111110100101010111000001000001110011000010110011100110011111010110101111110101101001011111100100110101100111111011100000100011111101111001100101100010111011110100110011100011010011011110111001111110001100111110111001111101110000011111100100101000010001011110100011111000001111110010000101001100111000010000011101001001111110110011011001001000000111001111101110000011111011000101111011110100000111000010100110111100000110101100101111100101101100011110001011010111001111110010010100111011010001111000110111111101011010010111101101001111110110010100111111011110100111000000101101100011111000000111011111110111010011100000111110111000001111010010011110011100111000100101110011111111000001111110101101001011110101110110000000111110111001111010011000000110100111000111100111011010111111010110001101000010110111101011111010000111010111111001101001110101011111010110100101100100000100011110100110111011111101000001110001100010110001011011000111110000001010111111010100011101000011110001011011110111000001111010010000000101010010110110000001111100111010011111000011011001011011100111011100100000101111101001101100111101001101110111101001111011001110100010110110001111010011101011001111110111001101010111111000001111000011011000010110001110011111000000101011110100111101100101000101100010101010101000111110010110001111011000011100011000101111110000011111101010010110101111111010010010000111100000010101111110101000111010000111111010100011011100011110111000001111110000011110011010010000100100001111010011011001111010110000011111000101011001111101110011110101011110010010100101111010111011000100011100011000010011100111011000000101111100010011101100101001010001111101011010010110010000111101110001010101111110111000001011101111011110001010000100111001111101001001010100000101101000111101011000001111110101001011010111111011100111110111000001111010010000000010010101101111110100110110011111100011001101111110101110101001010010101000001010101100011001011011111010000001001110111111100000011101111111101010001101110001111100001010000000111110011101001111011100000111111000010000001011111100100000010110010001111010110000011111101011001110110011111100111111000100010100001001111100000011101111110110001000110111000001000011111011110010110001011101111011010010000111110100100110011100111101101001000011110001001110110010100101110011000001001100111011101110010101111010011011001111010110011111000001111110101101001011111001010011011110001110001001110011111011100111100101100111100010101101111110000001110111010100101111110100111101001011111010111010110000010000000111010011010001011111101111010011001000111110000011111101011010010111110101110101100010100100110100110111011110101101110011001010010001110011110111100011011101101111001111110010000110110011001110001010000011001111110101000110111000111101011111010110000001101100111111010010101100000011111010011011001111101011111010110000001101100111111011110011101100101101110101100001000001111110101100000011011001111001011101001010011000010011101010101010000011101001000101101100000001011110111100111001111101001001110010100001001111100000010101111011110001101110110111100111100101110100101010100000111110101100000011100001000111110101001000000111101000010010001011000111001111101001101100111100001010110101011100101011110100110110011111010011110111111111001101001110111101111100101101100011111000001111010110101011111000101101111011100000111101001110100001011110001110100110100010111100001001100111011101000001111101011010000110110001011011000111110111001111010011001111010010110110101111110010110111101011101110010111001010011010001111110111000001010100011111101111001100101100010111010100000111110101100010011111000101011001111101110100111000001011011111010110001010101111100000011101111010000101100011100111110011101001111000001000011111011110010110001011101111100111011010111111001110100111101110000011110100111101101011110000100000100001110100111101100101000101100010101010111110100110110011110101001101111111011001001011110101110100111001101000001100100010110110001111100010011101100101001111000101101111000101000001100111010100011100000111000001111010110110000001001101101000001111101011010010111110101110100110001110001111000111011101001010010101000101101100011111101011001110111101001100100011111000001000011110001001110110010100111110001010110011111010111110100011111001101010110001011011000111101001010010100101101100111110101011000110010110111110111101011001001111110110010010111100111010011110111001110110000000010101101101011111101000000100111011111101111000101000010010000010010100110010111111110100110110011111011100000111100010101011110011111001110100111110111101001101111010011011001010000011110011100001100001010010100011001011010100111101111011101010000011110100000101100010101101100101011111101000000100111011111110111000001111110111110110010100011100001111000101001111011110101010001111000110110101111000000101010001110010010110101111101001010010100101101100111110101011000110010110111110101101001011111101111010110010011111101100100101111001110100111110000011110010000011100001011111101000000100111011111110111000001111110000000110110111010100011110101100000111111000110010100001001000001100011100111110111000001111100010011101100101001111110000110110011001100001011011000101111011101111101001101100111111010000010000110111011110111010100000111011100001100011101011111101011000001011011110111001111110001000101000010011111100000000001110010001101101000001111101011000001011011110111001111010011001111010110110010000011011110100110110011111101011000001011011110111001111011110011011111101110000001011011000101011110100101010010101010100011111010011110111111110111000001111000000101010001110010010110101111101110110011101100110110001111110111001011011101010100101001011100000111110011101001111000001000011110100101111101110000011111101111010110011010110111010001111110111000001010100011111101111001100101100010111010101111011101100111011001101100011111101110010110111010010101000011100111111010000011101001011001001011011101011000000101111011110001011011000101011111010111110101001001011100011111010010010000111010011100110100000110011111010011011001111011111001110011100010001011011000101011110111001001100010011001001000011110010000111010110111001110110101111110101011111110010001011001100010000111001011100100011000001111110110110010011100101110010011010100011111011100000101110111101011000101000000011100111100010110111110000100111011111011110010110111101110100101101100101011111010011011001111100111000011000011011001001010101011000110010110010111110100110110011111101001001000011110111000000101011110000001101001011001011011110111000001011101111110101001000000111101000010010000011101111110000100011011011011111011101110111111010100011011100011110010110001111101001101001101110000010000010001111101110000010111011111100100010101110000110110010101010011100111111010100011011100011110010110001111101001101001101110000010000111101110000011111100001000101001101100000010101111100111010011111010010100100001100111011000000001101100101011111010011011001111100111011010110101000111001001000001010100011110111001011101011000001110001111101111001100101100010111010100000111101110000011111101111010110011010110111010111101011001011001000001111101011000100111111010110100101111110000011110010000011100011110111001111101011111000010011101111101110001010101010001100101101111010110001001011010111110001011011111010001111001001101111101011011000000100110110100000111100010101100111110111000001111000000101001011011010111010101100011001011011110011101001110100110010001011011000111110101111000101000001100111111000010100101001010001111100000111111010110100101111110100100101101100111110011101001111101100101000101101100011110101100101111110010001001000001011111001010011010111000000101100001101100010010101011100111111111011001011101101010011110111101110111110000011111100001010110111001111100010011101110011110001011011110111000001111010111011110100111101111111100010011101100000010101000111111010110000010110111100000111111011100110111111000000101011111101000000000100101101100101011111000001111100010101100111110100111111010110100111010101111101011111000110011001110011111001011000111110111001111101100101111011111111011100000111011111110100110110011111000001111110101101001011111010011111101011010011101010111101011101100000001111101110011110100110011111001011011110111001111101011111000110011001110011111011100000010110110001011100110101110001010101111100010101111101110011110101101001110101000001111010111011110001011100000101111011101111100010010000010100111110010000111101011101111000101110000010111101110111110100000101100010101101100101000111110000011111101011010010111110100111101011001111100010100110110010111011111101010001101110001111011100000111111011100011011010111110100110110011110101101001101100011111100001001110111000111000011101011001011011000101010100011111001011011101011101100110110011010011101111011000011100011000101101011111011100000100000011111101011001110110011111100111110011101001011001011011101001100111110101110000001110110011000011001011011100010110111110111000001010100011111101111001100101100010111010101111110100000010010110101111111001000010101101010001011011000101110011000001001100111011101000111110111000001111110111110110010100011100000111001101000101001111011111111010000010110001010110110010101111110101100111011001111110011111001010011011110001110001001011100101011110100110110011110101100000100000001110011010011011101001001111101001110100111001111110101101001111101101110010010001010111110100110110011110100101001011110111000101001011111010011011001111010000110101101110100100011100111110101100001100001001110111010010101001100001110111001011010110101010001111010010100101111011110111011111101111001100101100010111010100000111101110000011111101111010110011010110111010111111001101011011011000110001011001000001000001111101011001110110011111100111110100111101011001111010100010110110001010001111010110000011110101101001101100010111001111111000111011111110101110110101011011011000110001011011101111110001000100000111101000111101110110011101101110110001001110010110101111101011000101011011101110011111110111011001110110111011100001101001110101111000111110101101110100011110100101001011110111101110111111010110100101111101011101010111100011101111111100010001000001111111100111010011101100001011000110110010010110011100101011101011000001111100010101100111101111000111000110001011111010110011101001011111100010100001000011110100110110011111010111010111011110100111101111111110100110110011110111111111011110011101101011100001000111110000010000111001011101001010101000001111101011000000111000010001111101010010000001111110001000000101110111111010100011011100011110101110101100010101100100111110011101001111100010000001001011011110111000000010011101101100011000111101110000011101110100000111100010101100111110101111000101001001100011011111100111010011111000101111101001101100000001011011000111111011001001011010110100000110010101111110101100000101101110101100000111101010100101001011100000111111010100011011100011110100110011101100101100010100000111110101100000011100001000111110111101011001001111100000100001110111110011001011100011101111000101110000011111010111011110001101110110111100111101001000100000100001001000001010011111101111010110011001011001101010010001111110111000001010100011111101111001100101100010111011111000101011001111110100000100000101101111101010010110101111110000010000111110011010110110110001100010110010000111101110011110100110011111010111101101110101001000010101101111100010110111101011111000010010000011001110011011010010101100001011100100000101111100111010011010000011100000011110100111101101011010000011110100101111101011111001000101010000001010010110110101110100100110111100111101011000001000000011101001101000101111110111101001101111101100101001110011111011100111111000010011101110011110010100001001000001110111110011011100000100001111100110100111011111011100111110111000001111100111010011010000011100000010100000111101001010111000000101101100011111011100111101001100111110100111101111100111010100111001111101110011110101101001110111110101111101011001000011001111101110011111000000101011111100110101101101100011000101100100000100000111010110000011111000101011001111101110100111000001011011110000010000111110011010110110110001100010110010000111100010011101110011111010110001101000010110111101001101100111101010011011111100000100001111011100111111001100111110001001110110010100111010110010000011100001000111110100101111010010100101111011110111011111101011010010111101000010010000011101111011110001010000100101111011101111101110000011110001011010110010110101100011001011011111010110100101111101110011111100010001010000100111110000010000111101110000011110000110110011011110011101001111011100000111101110110011101100110110001111110111001011001000111101001100101010001110010010101111011101100111011001101100011111101110010110111011110001011100000111110111001111110100001001011111111011100010101011111101110000010000001111000101011111010111011101100111011001101100011111101011001110111101001101110110100110111110100001001000001110111111010010100000111101011010110100111010100011110100101001011110111101110101000001111001110100111110000100111011000000101001010000011111010001111000100001011001110011111101010001101110001111011100000111101110110011101100110110001111110111001011011101001111011010111111101110000010101000111111011110011001011000101110101000001111101011000100111111010110100101111101011101011000000000111010111001111011100101111011011001110001001010000011101110000110001110101111101110001010101111110111000001111011101100111011001101100011111101110010110111110101001000000111110010110011110111011110100101010010101010001011011000111110111000001111101100011101110011111010110101101001110101110011111110110100101100011111001110100111101110000011101111111101110011010011010111110100111101100101000101100010101010101000111110111000000101101100010101111110101001011010111111001011011101011001111110100100100001111010111011111001011011000111110110001110111001111101001101100111111011100000101010001111110111100110010110001011101111010011001110001101001101111011100111110111000000101100111000111100111010011101010010110110010001011011000111101001010010111101111011101111010011101011000001110001111011100111110110111010100100011101010000000110110001011011000111111010110000010110111010110000011110110100110110001110000001110011111011100010101011111010110011101110011011100000010110110001111110101101001011111100011001000101101100011111001011011101001100110111101010010010110111010010100101111011110111011111010011011001111100101100011111001110100111101110000011110111011001110110011011000111111011100101100100011110101100000111111010110101011110000100000111001111101110000011110100101010000100001111010011011001111011100000101001010111111000001000011110011101010110111110000100111011001100101001011110100011110100101001011110111101110111101110000110001110101111101110001010101111101011000001111110101101001011110100110010001011011000111111010110101011110000100000111001010000011101001111011010111110101101100010111101111111100000100001111101111001101110000010000010111101001000100000101000101011011001011010111110101000101111001011011000000111111000010011101100111111001111011010011011111010011001111110111000101011101100110110010010000010110111001100111001010001111101110000010000001111100010101100111101001100100101101110110100111110010100100010110111110000100111011101001001111000111000000011011011101111010011001101111010100100101101111101111001101110000010000111101001101100111111001101011011011000110001011001000001000001110110100111110010100100010110111110110011011001001000001011011101001101100100010110110001111010011110110101101000001111011100010011101101100011000111010010001100101001001111001111000101101111011100000111110001001110110010100111101001100111000110100110111101110011111011101001111011100011110011101001111011100000111110101101001101001010000100000100000111010110110001011110111111111011100000101010001111110111100110010110001011101111110010001110011110110100110111110001011010110010000010000100101100010100011110100101001011110111101110111101001100111000110100110111101110011111100010000100111010111110101110111100011011101101111001111010110110000101001101100010011110001011011110000010000111110111101001100110001000011110100110110011111011100000111101110110011101100110110001111110111101001101111101011010010111100101000010001110010010110101101111011101111010010001000010111101100000010011001110010100011111010101111101111101001011011010000011111010110000010110111010110000011110111001011110110110011100010011100111100011011111101110011110100110011111011100000111100000001110001100010111111101111001110111001011010110100000111110111000001010100011111101111001100101100010111011110001011010110010000010000100101100011100101000111101011000001111110010011010011111011111110101000110111000111110111100100001010011111110100100000100101001101111001110111010111110100101111101011111000001111001101001000010010000111110010011010011110101111110101000110111000111110111001101010110111001111111101001101100111100010110111101110000001010111111000010100101001111010110000011111000101011001111110111101011001001111110110010010111100000100001111101110001011011001010001111000110111111101011010010111110101110100110000000111000110001011111010111011001101100110100111011111101111001000001100001011011000111110011101001110011010000001111011101111010111011011011111011100100000100000111010010000010011101110001010100010110110001111100000110101011010000011101001111011010111111101010001101110001111010111110100000000101011000111010011000000100101110010010001111010011011111001110101000101101100010100011111010011110111111110111000001111110101000101101100110011101010101111100111010011110111000001111010011100110100000110010001011011000111110001001110110010100111111010100100000011111001010010001011011110100110110011111011100000111101111101011000000111111000011011000001011101000010110010111101001110100111101111100110010110001110011111100010010110101101111011101111101110011101011010000011001010111110111000001111010110110000001001101111101001100101100011010101110001111011100000111100001010000101010011100111101011010010110000010101010001111101110000011110100110010111111010000000111011111001110100111110001001100100001100010010101111110000100011011000001100001000111010100101101011111100111011010111111100001001011001011011101001101011111010010001101001111010111110100110110011111101011001000001011000000101001001001000100000101010000011101010001011011000101111011101111100100001110001011011111000100001001110110010010010101000001111011000010100100001001000001010011100111110111000001111011110001101110110111100111111000000010000110000110110010111101001100111010010010000001111101110000011111100001000110110000011000010000100000111000000101000010011010011110001011011000111110111000001000100001110100101101100000010010100101010011110100110111011111011100000100010000111010100101111110100011100110110000100101101011101000010110001110011111100100111011100110100110100111011000001110110100111101111001010101011111011100010100110111010011011101111101110000011110111100011011101101111001111010000110010111111011011011100101011110001011011110111000001000100001111100010111110010100001001110011111000101001101100101010100011110100110000001101001110001101001010010110111111101011010010111110010100001001000011100010110111101110000011110100111001101000001100100010110110001111100010011101100101001111101001101100111110111000001111101110100100110111100111110011101001111011100000111101001100000011010011100011010010100101101101110011000001001100111011111111010110100101111110000100101000010010000001110011111101010001101110001110100100111110101011001010111110010110111110101100000011100001000111011111010011101111011101001011110111110011101011110101101100000011010011100001011111001110100111001110001110001010111111010100011011100011111011110010000010100101111010111110011101001110100111010110000100101100111001101101001010101111110100110110011110100111010110000100101100111001100000000101101100101000111111011100000101010001111110111100110010110001011101111010110101011111000101101111011100000111101011011000010101101011111010000011011101110011011000010001010000100001111010011011001111110101101010111100001000001110011111011100000111101010010000010000110100110101111111011110100000011101111000000111011110010100001001111101110000011110100110000001101001110001101001010010110111111011100000010110110001010101000111101011000001111110111101011001111110111101000000111011111100001001011110111100111000010111111011100000111111000000001101100101101101011111010011011001111010010000100111000000101011111001110100111010011000010010111000001011011101001100000011010110011111011100111110000010111101001011110111001111110111101001110000011111011110110001010111001101001110101011110100110000001101011001011100110111010010110110110011100100010110110001010001111110101100000101101111011100000111110111010010011011110011111101011010010111111000001111001101000000011100101000001111011100000111101001100001001011100000101101110100110000001101011001111110000100101111011110011100001011001110010100000111101110000011110101110110110001101000001111010011011001111010011110110101110110010000111010110101101000011111101100110110010010000111011111001110000011100011110100110110011110111000001011101010000011101011000001111010011001110001101001101111011100111100000011100001001011001011011000011011011000010111111011100000111100010110101100100000100001000100111010111111010110000001110000100011101011000001111100010101100111110001010110011111011100000111101100001110001100010111110100110011101001001000000111111010100011011100011101001010010111101111011101010001111101110000001011011000101011111101010010000001111101001011110101100000111110001010110011110101110110010101001000111000010110011100101110011111110101100000111110001010110011110100110010010110111110100000010100110011100011100010110111100000100001110111001001111101100010101101100011001011001011111010011011001111010010100101111011110111011111000101011001111010011001001011011111010000001010011001110001110001011011110000010000111101001100101110101001000001010100011110100111001101110001111000101011001111010011001001011011101011001110111001110101100010101011111101011010101110001101011010000011001010000011110011101001111100001001110110000001010010100011110101100000111110001010110011110100110010010110111110111101011001001111101011010101110001101011010000011001111010011011101111100000100001110110100110111111101010001010110000001011011000111110111001111000000111000000100010100001001111101110000011110110001110101010111100010110111101110011001111110000101001000011010011110001001000011110101111101001010010110000001100101101111001000011110111001111010100100111011111110111001111100010100100001001111110000100101100110000101000010011100111110100110110011110100101001011110111101110111110001010110011110100110010010110111110111101011001001111101011010101110001101011010000011001111011010011011111110111001000000101111011101111010011001110000101011011001010011111010011110111111011001010001100101100101111100111010011110111000101010111110111000000101101100111110100111111010110100111010101111110111101011001001111100000100001111010110101011100011010110100000110011110100111101101011111101001111010110011110100110011100001010110110010100111101011000001111110010001110011110110100110111111101010001010110001110001101111110111001111010011001111101110001001110110110001100010111111011100010101011111000101101111000001000011111010100010101001111000101100110100111000000101101100000011110101100000111110001010110011111100100010100001000101100011100111110111000001111000101101011001011010110001100101101110100110011000000101101100111110000010000111110111100110111000001000001011111011100101111001000010100110110000001010001111110111000001010100011111101111001100101100010111011111100010111110100110110000001110011110001011001011011000101101100001011000101000010010111101110111110101011111101110000011110111100011011101101111001111110001000101111101111111000001111100111000001110001111001011011110111000001111110111101001101011001011110100100001001110000001111101001011110101100110010110111101001011110101100000111110001010110011110100110011100001001110111001111101011010110100000001111101110000000100111011011000110001111000001000011100000010100001001000001110111110111000101010111111011100000111101001100101111011110101111100111010011111000100110010000110001001010111111000010001101100000110000100011110001010110011110101101110010100100100100011100111100000001011011000100010110110001010001111000110111111101011010010111101010010100001001011010110010010110111110111000101101101101011001010111101001010100101101111100101111001010000100101100111001111111010110000011111101011001110110011111100111110001010010000100111101111100110110101111100111010011110110001110111001111101110011111000101001000010011111011100000111111011110101011101100100001111001110110101111111010100011011100011111011100000100011111100110010000101001101111010011011001111101110000010110111110000101010111100001000111010110001001000010111111011110101001011110100001001111101010111111101111010000001111010011100100001001110110110001100011101011011000000100110110100011110101100000111111010110100101111010111011000000011110101100000111111010110011101100111111001111110101000101100100011111011100111101001100111000100010110111110101000110111000111010110000011111000101011001111101001111011111111011100000111111010100100011100011000101111110011101001110101100111000000011010011111111001010010000101100001100101101111001011011110000010000111010100011100100101110011111110101100000111111010110100101111101001101111001110110101100001010110001001110011111101111001101110000010000010001111010110000011111000101011001111101001111011111001110101001110011111000000111011111110111001111011110001010000100111101001100101100011010101110001111000001000011100001001100111010001000001111010010101011101101101110001011011000111110111000101010111111000001111110101101001011111010111110111101001101111001110100111100010010110100111011000001111010011011001111100000111110001010110011110101000111011101001001111011101111101001001111011001010011100111110000010000111100010010101010010000110111010011110001101101110101000111110000011111101011010010111110111000000100001011011101011100110110100100111011000001111001000011110111000000100001011011101011100110110100000101000010011110111010011010000001011111001110100111101011000100101000001110101100111110111000101010111110111011001110110101110001111100001001110110011111100111101101001101111101001100111101001001111001101011001001110011111010010111110000001010111100101110010001100001101100101001011100101011101101001000011111000010011101100111111001111000111000101101001000010100110110000001111010011001111100000010101111001011100100011000011011001010011110101000101101100000011111000001111110101101001011111010111110111101001101111101011000100111110001010110011110101001001011011101011001110111001101110000001011011000111110011101001111011100000111111010110010000011111100101000111110000011111000101011001111010100011101110100100111101110111110111010011100000101101111010110010100001101001101011101011000100111110011101001110100101001011110111101110101011110111011001110110101110001111010011011001111000101100010111001000010010001000000010010110110000001011100111111110111000101010111111101011010010111100101000010001110010010110101101000111110111000001111011100100111110110001010110110001100101101111101011010010101110011111111101011000101010111110000001010010101000001010101100011001011011111010110011101100111111001111100000111111011110100111000001011100111001111011100000100000011111101111101100101101111101001100111100000010100101010000010101011000110010110111110111101011001001111000101101110101110110110000100011111000010100101001010001111000110111110001010111110100111101111111010000100100000111011111101010010111101111111110100100100001111011100000111111011110100110011100111111110000011111100001010011011111000110011111000000101011111101011010011101010111110100101111000111010011101101001101110000001011011000111110001010110011111000101001001001001000101100011100101000001111000101001000010001011011000111110001010110011111000000101011111101111001110111001011010111111001110100111010010011110011010010111011000000010100000111010011110110101111110111000001111110001000100000111111110001010010111110111001111010011001101000001111011100000111101001100001101100110101101000111101011001110111001111110111100110111000001000001011111101011001110110011111100111101001100111111000010010110101100101101011111101110011110100101010101111000010001111101100100101110101110110110000100011110100110111101011010011010010100001000011111010010010000111101011101011101101101111111001110100111110111100101100010111010111001010111010110000011111000101011001111011100001101001110101011011111000010100101001010111110011101001110001101101000111101001111011010111110101100000111111010110011101100111111001111011010011011111110011001111010110010100011111101001001000011110000010000111100101100111101110111110010110001111000000101001010100000101010110001100101101111100001001110110011111100111111011110100111000001111110110010010111110100100100001111011100000111101111100101010101111100111010011110000010000111110011010110110110001100010110010000010111110001001011010011101100000011100111111111011110100000000000011010110001001010001111010110000011111100001001110110011010110011100111110100111101111111100000100001111100001010000011001010111110101100011010000101101110100110011101001001000000111101010010110110010001011011000111111011110100000011101111110110010010111101110011111100110010000101001100101111000010011001110111111101110011110101101001110111110111000101010111110101100000111111010100010101100000111001111101110011110101010010001101001110001111101010001101110001111000000111011101000111101011000001111110100001011111011111010111011000000011110101100000111111010110011101100111111001111110101000101100100011111000001111110101101001011111010111010100100000001100111011001011110111011001110110011011000111111011110100110010000011101101001101111100001010011100000010101100011110010000111011111001110110110010111001100100001100100011100000011100111101111000101110000011111011100000111110011011100000100000101010001111000111010011100011011111100010101100111101001100100101101111101110000010001111010110000010000000111001101001101111001000011111011100000100011111101110011010110010011111001000011101001110100110101110101101111110111101110110010110010111110000010000111101110100101011100011111010110011101100111111001111100010100100001001111010011001001011011111011111011011000010001111000101000001100100100000100011110101100000111111001000111001111011010011011111101110000001011001110001111000001111110101100111011001111110011111101001010110000001111010010110110010011011110001110000000110110111010100011111010011110111111110111000001111011111001110011100010010000010111100010110111101110000011111000100111011001010011110111000011000111010111101011001110111001101110000001011011000111110011101001111011100000111110101101001101001010000100000111001010111110010011011101000010111101011111000101011001111010011001001011011100010110010000100101101011001110011110100110111011110101100111011100101000111101001100101010001110010010101010000011110000011111000101011001111010011001001011011100111011101001001111100101110100111001111110100100100001111011100000010000101100100101101110111010011010000001011110001011011110101111100010000001101010111111100001010101110001001011110001110000111110101000101100010111001101101110010000110000100010100110101101011111001110100110100000111000000111110100110110011110100101101100100110111100011100000001101101110111111010110011101100111111001111110111001101001101111101001001000011110000001110111010000011101001000100001000101001001001010100000111101110000011110111110010101010111110011101001111000000101011110111001011100101001101000111111010110000010000001101001011110001110100111100000111110101100010000001001110011111010011110111111111011100011100011000101111101001100111111010100101111011110100011110101100000111101110000110001110101111100000111110001010110011111010111110001100110011100111101011100000000001110101111110100100100001111001011000111110111000000101101100011111010011011001111010110000011110101110110010101001000111000010110011100111110000011111000101011001111101011101001100011011111100111010011101011011110110110100110100111010010110110101111101001101110101000111101100011010000001111011101111101110000011111000101001111110100011100110100010011101100000011100111011110101100000111101011011100110011100111111011001001011110100110110011110101110110000001000010010111010011100111110000010000010100101111110100111000101101111011100000111101001000010010000011100110110001011111010010101010100011111011100000111111001001110000000101010001010000100111100101110010000100100000001010101010001100101101111001110100111100000100001111100010000001101010111111101000111110010000000111001111110100101011000000111101011010101100010101110100000100111001111100000100001111010011011001111010110000011111011100010011101101100011000101111110011101001110101100111011100111111011110011011100000100000101111010110000011110111000011000111010111111010110001001111110000100111011001111110011110110100110111111100010011011111101110000010001000011111001101011011011000110001011001000001011111001110100110100111101110000010001000011110001010011011001010101000111111011100000100011111100110010000101001101111101011010010111101000010010000011101111101001100111001000000110011101100101111000101101100100100111001111101110000001010111101011101100110110011010011101111110111100100000110000101101100010100011111000001111100010101100111111011110101100100111110111101011001111101010111011001110111010010101101011111011100111101011000101001000010011110100111101101011111100000010101111100010100110110011111000101011001111010011001001011011101011001111110110011001011011001101011001011101111101110001010101111110000011111000101011001111010011001001011011110010100110111100011100010011100111110111001111110010010101000101011011010001111101110000000001001111110011010011101010111100000011100111001000101011000111010011001101000001100111111010000000001011011000100111001111100000010101111011100101110101101010101111101001101100111100101000010010000011101111101111010110011111001000011110111000000000100111111011100010110110110101100101011111010111110111000101011011111110001101010111000001000000111001111100101101111000000101011111100010111110100101010100101011110101100111110111000101010111111000001111100010101100111110111001111101110100111000001111101110000011101111111001110100110100111101001101100111101001010010111100010101100011110111000001110111111110101000110111000111100000010101111010010100111000001110000011011011100110100010100110110010111000001000011000010000001001110100010001111101110000011110000001110000100101111011110011100001011000110010110111100111010011110000001010111111000010010110110100001010101010001100101101111001110100111101110000011110110000111000110001011111010011001110100100100000011111101011010010111110101111100001010110110010100111110011101001111010110000110110101100111101001010100001011011110111001111100000011101110111001010111101110000011110100100000000100101011011111100010101100111111001000010101101010110111100111011010111110010100001001000001110111100000001110010001110000110110011111001110110010111111001001101110100001011111111001110100111101110000011111010110100110100101000010000111101001101100111100010110111101110000011110010110110011111000101011001111010110011111101111010110001011000011101000001001110011111000000101011110101000101101111011100010101011111100000111111010110100101111101001111110111100101011011111101110001010011001110001101001101100111111110101011111010011001000101101100011111010110100110100100100001100100111001111101011101111100110010100101000100101111001111100111010011100000010100101010000010101011000110010110010001111101110000011111000101000001101111111101011010010111111001100101100010100011111101011000101010111111100001001110110011111100111110000011111100110011110110100111010111101001111011010111111101111010000000000111011111000001000011110010000111000011011001101111010110101101001110101110011100111100000111111000010011101100111111001111011010011011111010011000010100111001001000101101110001101111110011101101011010001111101110000011111010110100110100101000010000111110101100111011001111110011110100110011110101110110000000111110111001111010011001111101110100111101110000011100111110011101001111010011011001111100000010101111001110111010010011111001011101001000011111010110011101100111111001111010011001111110000001000010111010000101101111011100111110000011010000011110011101001110001101101000111111001110110010011011110001011011100010101111010111011011000010001111010111010111011110100111101111111110000000110110111010111001111111001010000100100000111011001011000111101110000110100111010101011110010100001001000001110110010110001111001011110101001010111101001111011001010001011000101010101010001111100000111111010000101111101111110000001010111110000011010000010111110111100110100100101111101011010000011011101111011101111000101101111000000101011111011100000001001101010111111010010111110000011111000001101000001100111100010110111100000010101111001011100100011000000011011001110011110001110111101011000100010110101010110001100101101111001011111100111111011100000100011110111100110010110101000001100111111000010100111101111000101101100011111001110110101111100010110111100000010101111000010100101010010000101101100011110100001100100011100000010111001111111010100101101100111111011100000100011111100110010000101001101111000001000000101000001110100100111100110100101001010001111101001111011111111000000101011110111110010110110001111011101001101000000101111100111010011101010010000010000100011100000011111100011001011000111111010010010000111011010011011100000010110110001011100111011111010011110111111110000001010111100010110110011101100101101100000111011111010011011001111110010001011110001110001001011011000000111110111000000010011101010110111101011010110100111010111001110111110100101111101011101110110011101100110110001111110111101001101111000001111100010101100111101011001110101011011110000001010111111010100010111111001111100110101011010101000001111001110100111110000100111011000000101001011100101011110000011111000101011001111010011100110100101101100111001111100111010011110000001010111111010000000010010111001101011100000010110011100000010110110001111101001101100111111001001011000010011100111110111000001111001011100100000010101101100101101100000011111001110100111110001100111001111101110011111000000101011111100001001110111010010101001100001100101100101111000101101110100101101100100110111100011100000111001101111000100111011001010010101010001111010011110110101111110111000101010111111101011010010111110100111101111111010010101001010101001110011111010011011001111110011001011000111111010100011011100001000101000101000111101100011010000001111011101010001111100000111101011011000101111011111110100111001110110110001100010111111010111110000100101001001110111110011101001110000001011101011010010111111001010101011110110001110101010101001010100100100010000111001010000100100000111011111101010010010111000111010011110110101111110000011111010101110110010110110010011100111110111001111100000010101111000000101111000111000100011001110110010111111001110110101100010010101111101001101100111111010010010000111011000010110001011100110101100101101011100001011111001110100111101110000011110111010011010000011101111000101000010011100111110101110000001110001110110011111010000011101111000111010000101000111110000011111000101011001111110111100101100010111011110010110100111011011000110001111011100111101010011011101101111001111110011001110101011011110010110011100101011100011011111110101101001011110110100110111111011100010101011010001111010011110110101111110111000001111110100101011011100010111101110111111010110011101100111111001111011111001100101110001111100110011101010110111100101101111000001000001000111111010000010000010110111111001110100111101001111011111111011100000100000011111101011010010111110000010000111110010001010100000010100101101101011101001001101111001111110100101010111000001000011110100110110011111011100000101101111000001000011111011110011011100000100000101111010011100110100000110010001011011000111110001001110110010100111111010110100101111010011001110001000101100110000101101100011111011100111111000100110111111010111110000001000010111010000101101111101001010110111001010001111100000111110001010110011111010111011010011011000110010110111101110001010101111110000011111101011010010111101001100100010110110001111100010101100101000111110000011111100001001110110011111100111100011101111010110001000101100011111000000101011111101000000000100101101100101011111011101001111011100000010110110001111100111010011110111000001111101011010011010010100001000011110100110110011110111110101101101100011000000101101100010100011110101100000111111010110100101111101011101111000110111011011110011110100001110110011111100011010000001110010101110101100111011100111110110001110111001010111101011000001111010110100001110011110001111010100100101101111010011011001111000111010011100011111000101011001010000100111101110000110100111010101100100011110100111101101011111110101100010101011111110101100111011001111110011111100010000101011011111011110100000111110111101010111011001000011100011101001111000001111000000110100111101111011101111011111001010000100111001111100000100000111001110011110000011111100001001110110011111100111101101001101111111011110100111000001111110110010010111100000010101111110111000101101100111111010110000011011100000100001111011100111101111000101110000011111000001000011110010000111110010010101010010000101010011111000001000011111010010010000111110101100010101011111010110000011111000101011001111110011001011000101000111110011101001111100001001110110000001010011111000001111100010101100111111001100101100011110001101111110111001100101000111110000001010111100010110010110110001011011000010111111101100000110001001110011111000000111011111110111001111000000111011110100001011011111010000000010010100000111011010011011111101110011111101111010000000000111010100011111001011011000000111101110110011101101111010000000111111011110100000000000010011100111101110110011101101111010000000111111001100101100011111101001001000001000001110001101111101011010000111001010001111110101100000010111100111110000011111101011010010111101010001101110110001011011000111110000010111101001001111001010101010111101110111110010110111101110000011110101000111001001111100111010011110111000001111010011001110011110001011011101011000000100001011111101001101100111110110000100111011001010010000010111101011000001111101110100100100100100011100111101111000111000110001011011110111011111010101111110000001010111111001100110010000111101001101100111100101101011001000000111001010001111010110000011111011100101111110011111000000111011111110100111101111010000011110111000101010111110101100000111110001010110011111101111010110010011111010111110000011110011010011011101001100000011010010110111111001110100111000110111111011100111110000010000111110111100110111000001000011110100110110011111011100010101011111100000100001111101111001101110000010000111110101100111011001111110011110101010010001101001110001111101010001101110001111000000111011111110111000101010111111101111001000001100001011011000101000111101011000001111110000000000010011100111110100110110011111011100000000011101011111000001000011110100000110111010111100001001110110011011001111100000010101111011000111000001110000100000111010110100111010001011011000101110011111111001111010011100101001101110011101111010011100101001101110011101111110101100010101011111101011011111100011111011100111111001100101110011100111110101100010101011111101011011111100011111011100111111001100111110101011111101001111011110111001110011101011000001111110101100111011001111110011110100101101101011111101001101110010110110011111011100111110000010000010100101111110100010000011101011000001111010110100001110010100011111000001111110000100111011111010010010000101100111001111100000100001111101000010010100110111101110101000001111011001011110111100010110110001111100000100001110110100110111111011100111111000000000111010100000111101110001010101111100011011111110101100111011001111110011110100110011111010011110111111100000001110001100010110100000111011000101000010010000111110100001101000000100011111000001111110100001011111011111101011000110100001011001011011111100000010101111010110000001000010111111011100000111110101100010001101110101011000110010110111100111010011110000010000111010011100101011001110111010001111000110111111101011010010111101101001101111110100111110111001110001001101110000010000111100000010101111110100101011011001111101111110111000101010111110001101111110001010110011111000101001001001001000101100011100101000111110000011110000001110111001110111010011001000000111001111110101001011110111101000001111101010001101110001111011100000111111000011011000000001100111011001011110100101010101100010010110101111111011100111011110010000011101111100111010011110111000001111110000001011110001010011101010110010100000111101110000011111101000001000001011011111110000101001011101101010011111111100001010000000101010101001010111110000010000111110010000001010101010100000111100000100001110100110000001101010111000010000011110000010000111110100000101101100010010000010111110001010110011111100010001010000100101101111000000111011101000111110111000001011011101111101010110011111001011000111101100001110001100010111111010010111110000011111101011010010111111011001101100100000010101010100010110110001111110100100100001110101100000111110001010110011111011101001001001001000111001111101010111111000000101011111100110011001000001000001111011000111011100011100101111011101010001111010110000011111101011010011010110011100111110111001111000000101111000111000110001011111100000100001111100001010011011001011110011111010101111110000001010111111010010010000111100000100000101111100010101100111101001100100101101110100110111110011101010110111100111011010111110100110111011111010111110001110110010110110100011110001101111111010110100101111100000100001110100111010101110001110110000111000110001011010001111010110000011111101011001000000111110101110111110011001010100111110010100100010110111110000100111011101001100010110110001011100110111011100101110101100000111000001101111110011101001110100100000000101101011001110011111101000111110100110011000101111010001111100000100001111101011000000110110011110001011001011011001010010111010110001001011000111100010110111101110000011111001010010001011000010110110001111100111010011110000010000111110100110110000000000111011110101011110001010010010010001000001011111010011011001111101110000011110100110111110011001110011111100010111110011101010011100111111010110100000110111011110111011110100110011000000101101100111110000010000111010010001000011010011011011011100111001111010101110000001011001000111111010000001001110111111100000100001111000101001101100101011111010011011001111110101000000010101101101011111011100110011111010010111101011000001111011110001101111110100110110011110101101100110101100100010011100111110000010000111110000101001101100101111001111101011111010010100001011010111110100100010000110100110110110111001111101000001001010100101000111110010110111011000011100011000101101011111101011000001011011110000011111100001010110111001111000101101110100001001000001110111101111101010110011110001101111111010110100101111010110000011111101011000100111111010110100000110111001110011111101100100101111000000101011111100100010110011000100000100011111000001111010111000010100000110000001011110111011110111000011000111010111111010110001010101111110000011111101011010010111100110101011000101101100011111101000010010111100010110110001111100000100001110100110010101000111001001111100000011101111111010011111001011000101000001111010101111101100001110001100010110100000111000101101111011100000111101010111100100101001000010110110001111100010011101100101001010001111101001101100111110000010000111101110001001110110110001100010111101001101100111101100010101010101110011101111000111010011110111000001111011000011100011000101111111010110100101111101001100111011101011010011101111110000100101111110011111001000011111010100110111111001000011111010100010110110010111011111011100000100000011111101011010010111101011101100000001111101110011110100110011111010111011110001101110110111100111110111101101101110100110111100100001111001110100111010010110110011011000010001110000001101011001011101111110100100100001111000000111011101000111101001000100001000101001001001011111011100000101110111111000010011101100111111001111010011001111100010100100100100100111011111011100111000100110111000001000001000111110111000001011101111110110010100111001111101110011111100011001111110110010010010110111010000100000101111101110011100010011011100000100001111001011011110110001010010101110010010100000111001101011000010001111101010001101110001111010111110000101001101100101111001010000011110100110110011111001011011110111000001111101110000001000011001111011111010011011001000101101100011110010111001000110000100010100110110001001111000000101111110110110000101110100110101111111000110011001110010110000111000110001011010101000111110111000001011101111110110010100111001111101110011110111000000101010101010001111100000111100000011101110011101110100110010000001110011111101010010111101111111100000100001110010111010010101010000011110111000001111101110011101101100001000111100111010011110000010000111100010100110110011111010011011001111100000010101111110010010111100010000000111011011011101000111101001111011010111111100100101111000100000001110110110111111010010101001010101001010101000111110000011110011100001000100100111001111100000100001110100101000000010100101001010000011110100100100100100111101110100010110110001111000110111111011100111110000001110111010100101111110100011100111111111010110001010101111110101101111110001111101110011111100110010111001110011110111000001111000101100101101100010110110000101111110011101001111011100000111111000000101111000101001110101011001111110101101000000110001110011111000000111011111110111001111100010010111111001111010011101011000001110000100011110100111101101011111101110000011110101000101101111101011010010111110111000001000000101110010101110010100001001011011110000001010111101010010110010100111110011101001111000100101101001110110000011110111001011111100111110000001110111111101110001010101111100000010100101010000010101011000110010110111110111110110010110111110100110011111101111010110010011111101001001000011101011101101100001000111101011101010001011001000111111010110000001011110011111000001111110101101001011110101000110111011000101101100011111101010001101110001111000001000011110010110111101110000011110101000111001001111100111010011110111000001111010011001110011111101111010000001110111111000010101101110011111011100111110111000001111110011001100100001111010011011001111010110100001110011111011100010101011111101110000011111101110001010101011101100101111110101101001101011001110011111011100111101010010011111000000111011111100010110111101110000011110100101010000001111100111011000000100011111000001111010110111001100111001111110110010010111101110011110100101101101011111100101101111000000101011111100001001101010111111010011011001111110101101000010101101111000010011010101101000001111101111001000000111110000010111101001001111001010101011111011100010100110111001010000100100000100011111101011000001011011110000011111101011010010111111001000000101010101001110011111000001111110101001011010111111001010000100100001111011100111110000010000111101110011111100001001110111110100100100001011111100000100000100011110001101111111010110011101100111111001111010011001111101001111011111110000000111000110001011010000011101100010100001001000011111010000110100000010001111100000111101111001110100101111110000010000111110000000001110100010110110001111100101101111011100000111101001100111001111101001101100111111011110011010011000010110110001111010110011101001011011110111010111001111111100111111011101110111111000110011100101110011101111110001100100010110110001111110011001110101011011110111000001111010110111010000100000101111100000010101111110001011111010010101010010101111010011001110000101011011100111101011001111110010001110111110111001110011111101010001101110001111101111001000101011011110110000000111110111000101010111111000001111100010101100111110111001111101110100111000001111101110000011101111111001110100110100111101001101100111101001010010111100010101100011110111000001110111010001111100000111101111100101101100010011100111110111001111101001011100000010110110011111011100000001001110110110001100011110111000001111000010011001110100111101001101100111111010001111011101111101011010110100111011111011100111110100110100110111000001000011111000010011101100110101100000111011111101011000001000000111110000011111101011001110110011111100111101100010100001001000011110000011010000011110101100011010000101101111001110100111100000010101111101100001001110110010011011110010100000111101001101100111101110100110111111010111110100100100001100000011110100101101100101100000111001111100000011101111111100110011101010110010110111010000100000101111010110110010100101110100110111011110101101100101001001000111110111000001111000111011101001001111101011000010100100110111100111111010010101100000010101111100111010011110000001010111100111011101001001111100101110100100001111010011011001111100111010011110111000001111110111101011001101011011111101011011101000000011100111111011001001010010110111100000010101111110010001010111000010011101111101000001101111011000000010100011111001011011110111000001111011111010010110111111101000111100011100011000101111110011101001110101101110100001000001011111000001111010010101001010101001110011110111001011101011000001110001111101111001100101100010111011111101011000100111111010110100101111110000100111011100010110110001111110110010010111110100000010011101111111011100000111101001010100110101100000111011110110110110000001010001011011000111110111101011001111010011100110111011011110010101111100111010011101001110100101010101000111110111000001011101111010110100111111011010110011100111111000010010111111001011110111010111001010111101001101100111110111000001111011111001010000100100000101111001011101001010111100000010101101100111001111110100100100001111010111010100111000010010110110011111001000011110111101011001111100101101111010111101110000001110000011100011101001111011001111011111100110011100011111101001010110000001111101001101100111110101110100101010000100001111001110100111101110000001110000011100011101011000100100001011111101000001101110101010001111110101100000101101111000001111000000110101100001000001110011111011100000111111010010011001101111110011101001111011100000111101011011101000010000110000101001010011111000001111110001011111010011011000000111001111110110010010111101001101100111101011010110101111011100101110101100000111000111000000111000110100000110010001011011000111110000001110111111110100000010011101111111011100000111111001100110010000111100111010011110111000001111000000110111101100000011001110011000001001100111011101000111101011101101100111001001011001111011101111100000111100000011101110011101110100110010000001110011111011100000111101100001110001100010111111101011000001011011110010110001111100111010011110111000001111110111110110010100011100001000101001111011111111010000010110001010110110010101010000011110101110111100011011101101111001111010011011111001011011001111011111001011011001100101100010000010000011110001010110011111101111010110010011111010111000010101011100000100001111101000000001001111101001111011111101100101000110010110111101110011110100101001011110111101110101000111110111000001111000000111011001100001100101101111000101011001111010011001001011011110100111111011110010101101111101001100001001011100000101101111101100100101111001011011110101100001100001001110110011010111111001110100111011100101110101100000111000010111101000010001100101111001011011000000101000111100101000010010000011101100101100011111011000000010011100111110111001111011100100111110110000100110111111000000111011101000111110111000001111110111110110010100011100000111001101000101001111011111111010000010110001010110110010100000111101011101111000110111011011110011110100101010011110010000111101110001010011011111011001011101101010011110100000111011100000101001010111110101110111000101111000101101100011111010011011001111010110100111010001011011000111110111000101010111111011100000100000011111101011010010111101101001111100010100000110111111110111001101001101011011100111111101001111011010111110111001011101011000001110001110111000001010010101111101011000100111011010110001011011000111110101011111100000011101111111011100010101011111000111010011110100110011101111110100001011110111110011101011111011000000010011100111110111000101010111110101100100001011111100111010011110101111100011010110111001111100101101111101010001101110001111000000101011110101000101011011001000011110000011100111101001101111100110011100101110111111010100101111011111110100101101101011111100000010101111101100100110111000111110011001110101011011110000001010111110111000000010011010101101000001110101100111110000011111101011001110110011111100101000111101001010010111101111011101111010110101011111110100100100001111010111011110001101110110111100111110110001110111001111100101101111011100000111101010001110010011111001110100111101110000011110100110011100101000001111100000000011101000101101100010100011111011100000101101110101100000111111001000000010011100111110000010000111001011101001010111110100110110011111101010010110101111110010100001001000011110111001111101110000011110111110011001011100000010110110001011100110110001011111010010101010100011110101100000111111001000101001001001000111001111101110000011110010110110011111001110100111101110000011111011100111010100101111111000101101111011100000111111010110101011001000001110011001110010111101101100011111010011011001111000000111010000000010101100000111001111100000100001110010111010010101111110101000110111000111101110000011111100001001100101111111110101101010110010000010001111010110000011110111110011001011100000111001111101010111111000001000001010010111111010011100010110111010010000010011101000001011110011111010011011001111000000110101100101110010111101100101101100111001111101011110001010000100000100100001011011110100100111001010000100111110000010000111001101000000100011111011100000101101110101100000111111010100101101011111010011101011000001110001111011100111110111000001111010011001110011111010110001101000010110111101001101100111101011010101111110101011111101110000011111101001001100110110100011110101100000111100000011100011010000011001001110011111011100000111101001000010111101111100111010101011111101001001000011110101110111110010110110001111101100011101110011111010011011001111101110000011110101000111000110001011111100111010011110111000001110111111101011010110100111000001011000111001111000101101111000001000011111011100010110110011110101001110000000000110110100000111101011011100011010010011011110011111101110011101111001000000010010101010001111010110000011110000001010110110011100111110111000001111011010100100100011111001110100111100000100001110110001110000011100011110101100011010000101100101101111110111000001111110000100110010111111100010000100101101110100110011100101110011000001010000101111111101001101100111111010000101111011111110001011010111001111101011100000010100001001000000010010100011111011100000100000011111101011010010111101101001111011111001011011000100100001111010011001110111101001000100001011110110000001001110101011000110010110111010000100010101000101001101111001111100101101111000001000011111010010101100000010100011110101100000111111010110100001101100111001111100101101110100101010101100010010110101101111011101010000011110100111111011110010101101111111000010000010010000110100110110011110111101110101000001111101010001101110001001110110101111110100111110100000110111010001111100000100001111101110011101111001000000010010101111110001000010101100111011010100111101111011101111110001000101000010001011011000111101001001111101011000000111110111001111100010010100100010101111101001101100111101000010001010100011001011001011111001110100111101110000011111101001101101011110110000000101000111110000010000111100010010100100010101111101001101100111101000010001010100011001011001011111101010010000001111010110011110001011010110000000111000010101011001111101110001010101111101011000001111011010011110111110010110110001001000011101011010110101111101110000011111101011000000110110011110100100001011110111110011101010101111100101101111101011000000111000010001111000001000011111000110100111001001000111111010110100101111110100000101110010000011100111110010000111000000111011100111011101001100100000011100111110111000101010111110101100000111111010110100101111110101101000011011000101101100011111101001001000011110100110011101101110000001011011000101000111110101011111011111010010110111110101100000111110000011010000011001111100000100001111101111001101110000010000111110000101001111011110001011011000101000111101011000001111010110111010000010110011100111110111001111100000100001111101000010011011111101001101100111100001010011011110111001111101110000011110100111010011000010101101100100000101010001111010010100101111011110111010111001110111101001010010111101111011101011100111011110111010010101010000011111011110101101111101111010011100111001111100001001110111001111110011001110101011001000001111100100110100000010001111110111000001000111111001100100001010011011111010110100110101101011111011100111101010100100011010011100011110111001111011101100111011001000111110111000001011011101011000001111000000111011100111011101001100100000011100111111010110001010101111101011000001111100010101100111101001100100101101111101011010000110110001011011000111111010010010000010001111111')\n",
            "62713\n"
          ]
        }
      ],
      "source": [
        "encoded_text = bitarray()   #create library bitarray\n",
        "encoded_text.encode(huffman_dict, text)\n",
        "print(encoded_text)\n",
        "print(len(encoded_text))"
      ]
    },
    {
      "cell_type": "markdown",
      "metadata": {
        "id": "OLU7yncgLJYS"
      },
      "source": [
        "# ***Average number of bits/character for the whole story***"
      ]
    },
    {
      "cell_type": "code",
      "execution_count": null,
      "metadata": {
        "colab": {
          "background_save": true,
          "base_uri": "https://localhost:8080/"
        },
        "id": "QkdLFMaELNbQ",
        "outputId": "d7b35492-44ad-469e-edf2-7341423247bc"
      },
      "outputs": [
        {
          "name": "stdout",
          "output_type": "stream",
          "text": [
            "The average number of bits/character for the whole story:  4.210339039946291 bits/character\n"
          ]
        }
      ],
      "source": [
        "average_number_of_bits_per_character = len(encoded_text) / num_of_all_ch\n",
        "print(\"The average number of bits/character for the whole story: \", average_number_of_bits_per_character, \"bits/character\")"
      ]
    },
    {
      "cell_type": "code",
      "execution_count": null,
      "metadata": {
        "colab": {
          "background_save": true,
          "base_uri": "https://localhost:8080/"
        },
        "id": "v8WKjDZPSY8o",
        "outputId": "7e8d6309-86e6-4cb9-fc66-577701ccbae7"
      },
      "outputs": [
        {
          "name": "stdout",
          "output_type": "stream",
          "text": [
            "The average number of bits/character for the whole story:  4.210339039946291 bits/character\n"
          ]
        }
      ],
      "source": [
        "average_number_of_bits_per_character = 0\n",
        "\n",
        "for v in huffman_list:\n",
        "  average_number_of_bits_per_character += (len(v[1]) * prop_lib[v[0]])       #v[1] -> codeword for each char\n",
        "\n",
        "print(\"The average number of bits/character for the whole story: \", average_number_of_bits_per_character, \"bits/character\")"
      ]
    },
    {
      "cell_type": "markdown",
      "metadata": {
        "id": "dzkzmH7LMMWv"
      },
      "source": [
        "# ***Entropy of the alphabet***"
      ]
    },
    {
      "cell_type": "code",
      "execution_count": null,
      "metadata": {
        "colab": {
          "background_save": true,
          "base_uri": "https://localhost:8080/"
        },
        "id": "Q0fCoI9bMQ8e",
        "outputId": "c5e00e80-745a-42cd-b058-f743a863f8b0"
      },
      "outputs": [
        {
          "name": "stdout",
          "output_type": "stream",
          "text": [
            "Entropy of the alphabet =  4.17154277778197 bit/ symbol\n"
          ]
        }
      ],
      "source": [
        "Source_entropy = 0\n",
        "\n",
        "for ch in prop_lib:\n",
        "  Source_entropy+=(prop_lib[ch] * math.log2(1/prop_lib[ch]))\n",
        "\n",
        "print(\"Entropy of the alphabet = \", Source_entropy, \"bit/ symbol\")"
      ]
    },
    {
      "cell_type": "markdown",
      "metadata": {
        "id": "mlwfXUaYT9th"
      },
      "source": [
        "# ***Number of bits needed to encode the story using ASCII code.***"
      ]
    },
    {
      "cell_type": "code",
      "execution_count": null,
      "metadata": {
        "colab": {
          "background_save": true,
          "base_uri": "https://localhost:8080/"
        },
        "id": "6ztuU0a4UUW1",
        "outputId": "3a3e5e29-0b71-43c4-f411-cb782c704c3e"
      },
      "outputs": [
        {
          "name": "stdout",
          "output_type": "stream",
          "text": [
            "The number of bits needed to encode the story, if ASCII code is used:  119160 bits\n"
          ]
        }
      ],
      "source": [
        "# If ASCII code is used, find the number of bits needed to\n",
        "# encode the story\n",
        "number_of_bits_for_ascii_code = num_of_all_ch * 8\n",
        "print(\"The number of bits needed to encode the story, if ASCII code is used: \", number_of_bits_for_ascii_code, \"bits\")"
      ]
    },
    {
      "cell_type": "markdown",
      "metadata": {
        "id": "TgOUPhCfUsPE"
      },
      "source": [
        "# ***Percentage of compression accomplished by using the Huffman encoding as compared to ASCII code***"
      ]
    },
    {
      "cell_type": "code",
      "execution_count": null,
      "metadata": {
        "colab": {
          "background_save": true,
          "base_uri": "https://localhost:8080/"
        },
        "id": "6xYZsiG-UwJ6",
        "outputId": "34f7de93-0a6a-4be0-b021-094c7739b55d"
      },
      "outputs": [
        {
          "name": "stdout",
          "output_type": "stream",
          "text": [
            "The percentage of compression accomplished by using the Huffman encoding as compared to ASCII code =  52.62923799932864 %\n"
          ]
        }
      ],
      "source": [
        "compression_ratio = (len(encoded_text)/ number_of_bits_for_ascii_code)*100\n",
        "print(\"The percentage of compression accomplished by using the Huffman encoding as compared to ASCII code = \", compression_ratio, \"%\")\n"
      ]
    },
    {
      "cell_type": "markdown",
      "metadata": {
        "id": "Ls8A7Wby4Z8r"
      },
      "source": [
        "# ***Padding***"
      ]
    },
    {
      "cell_type": "code",
      "execution_count": null,
      "metadata": {
        "colab": {
          "background_save": true,
          "base_uri": "https://localhost:8080/"
        },
        "id": "AAtwO1er4cVt",
        "outputId": "3afd3514-465f-415e-dc70-b089865a2f59"
      },
      "outputs": [
        {
          "name": "stdout",
          "output_type": "stream",
          "text": [
            "7\n"
          ]
        }
      ],
      "source": [
        "#Because data is storing as Bytes (8 bits) rather than bit, we need to record the \"padding\" added to the data in order to remove them during decoding\n",
        "padding = 8 - (len(encoded_text) % 8)\n",
        "print(padding)"
      ]
    },
    {
      "cell_type": "markdown",
      "metadata": {
        "id": "vh5NmGxl5Npf"
      },
      "source": [
        "# ***Save encoded text as binary file***"
      ]
    },
    {
      "cell_type": "code",
      "execution_count": null,
      "metadata": {
        "colab": {
          "background_save": true
        },
        "id": "gcccEZEH5Rzr"
      },
      "outputs": [],
      "source": [
        "with open('compressed_file.bin', 'wb') as w:\n",
        "  encoded_text.tofile(w)"
      ]
    },
    {
      "cell_type": "markdown",
      "metadata": {
        "id": "hg7eLz605mKe"
      },
      "source": [
        "# ***Decoding Stage***"
      ]
    },
    {
      "cell_type": "code",
      "execution_count": null,
      "metadata": {
        "colab": {
          "background_save": true,
          "base_uri": "https://localhost:8080/"
        },
        "id": "Zv15jmwb5o4I",
        "outputId": "63cd0542-d226-4847-d749-964df567b49d"
      },
      "outputs": [
        {
          "name": "stdout",
          "output_type": "stream",
          "text": [
            "mrs. mooney was a butchers daughter. she was a woman who was quite able to keep things to herself: a determined woman. she had married her fathers foreman and opened a butchers shop near spring gardens. but as soon as his father-in-law was dead mr. mooney began to go to the devil. he drank, plundered the till, ran headlong into debt. it was no use making him take the pledge: he was sure to break out again a few days after. by fighting his wife in the presence of customers and by buying bad meat he ruined his business. one night he went for his wife with the cleaver and she had to sleep a neighbours house. after that they lived apart. she went to the priest and got a separation from him with care of the children. she would give him neither money nor food nor house-room; and so he was obliged to enlist himself as a sheriffs man. he was a shabby stooped little drunkard with a white face and a white moustache white eyebrows, pencilled above his little eyes, which were veined and raw; and all day long he sat in the bailiffs room, waiting to be put on a job. mrs. mooney, who had taken what remained of her money out of the butcher business and set up a boarding house in hardwicke street, was a big imposing woman. her house had a floating population made up of tourists from liverpool and the isle of man and, occasionally, artistes from the music halls. its resident population was made up of clerks from the city. she governed the house cunningly and firmly, knew when to give credit, when to be stern and when to let things pass. all the resident young men spoke of her as the madam. mrs. mooneys young men paid fifteen shillings a week for board and lodgings (beer or stout at dinner excluded). they shared in common tastes and occupations and for this reason they were very chummy with one another. they discussed with one another the chances of favourites and outsiders. jack mooney, the madams son, who was clerk to a commission agent in fleet street, had the reputation of being a hard case. he was fond of using soldiers obscenities: usually he came home in the small hours. when he met his friends he had always a good one to tell them and he was always sure to be on to a good thing-that is to say, a likely horse or a likely artiste. he was also handy with the mits and sang comic songs. on sunday nights there would often be a reunion in mrs. mooneys front drawing-room. the music-hall artistes would oblige; and sheridan played waltzes and polkas and vamped accompaniments. polly mooney, the madams daughter, would also sing. she sang: im a naughty girl. you neednt sham: you know i am. polly was a slim girl of nineteen; she had light soft hair and a small full mouth. her eyes, which were grey with a shade of green through them, had a habit of glancing upwards when she spoke with anyone, which made her look like a little perverse madonna. mrs. mooney had first sent her daughter to be a typist in a corn-factors office but, as a disreputable sheriffs man used to come every other day to the office, asking to be allowed to say a word to his daughter, she had taken her daughter home again and set her to do housework. as polly was very lively the intention was to give her the run of the young men. besides young men like to feel that there is a young woman not very far away. polly, of course, flirted with the young men but mrs. mooney, who was a shrewd judge, knew that the young men were only passing the time away: none of them meant business. things went on so for a long time and mrs. mooney began to think of sending polly back to typewriting when she noticed that something was going on between polly and one of the young men. she watched the pair and kept her own counsel. polly knew that she was being watched, but still her mothers persistent silence could not be misunderstood. there had been no open complicity between mother and daughter, no open understanding but, though people in the house began to talk of the affair, still mrs. mooney did not intervene. polly began to grow a little strange in her manner and the young man was evidently perturbed. at last, when she judged it to be the right moment, mrs. mooney intervened. she dealt with moral problems as a cleaver deals with meat: and in this case she had made up her mind. it was a bright sunday morning of early summer, promising heat, but with a fresh breeze blowing. all the windows of the boarding house were open and the lace curtains ballooned gently towards the street beneath the raised sashes. the belfry of georges church sent out constant peals and worshippers, singly or in groups, traversed the little circus before the church, revealing their purpose by their self-contained demeanour no less than by the little volumes in their gloved hands. breakfast was over in the boarding house and the table of the breakfast-room was covered with plates on which lay yellow streaks of eggs with morsels of bacon-fat and bacon-rind. mrs. mooney sat in the straw arm-chair and watched the servant mary remove the breakfast things. she mad mary collect the crusts and pieces of broken bread to help to make tuesdays bread- pudding. when the table was cleared, the broken bread collected, the sugar and butter safe under lock and key, she began to reconstruct the interview which she had had the night before with polly. things were as she had suspected: she had been frank in her questions and polly had been frank in her answers. both had been somewhat awkward, of course. she had been made awkward by her not wishing to receive the news in too cavalier a fashion or to seem to have connived and polly had been made awkward not merely because allusions of that kind always made her awkward but also because she did not wish it to be thought that in her wise innocence she had divined the intention behind her mothers tolerance. mrs. mooney glanced instinctively at the little gilt clock on the mantelpiece as soon as she had become aware through her revery that the bells of georges church had stopped ringing. it was seventeen minutes past eleven: she would have lots of time to have the matter out with mr. doran and then catch short twelve at marlborough street. she was sure she would win. to begin with she had all the weight of social opinion on her side: she was an outraged mother. she had allowed him to live beneath her roof, assuming that he was a man of honour and he had simply abused her hospitality. he was thirty-four or thirty-five years of age, so that youth could not be pleaded as his excuse; nor could ignorance be his excuse since he was a man who had seen something of the world. he had simply taken advantage of pollys youth and inexperience: that was evident. the question was: what reparation would he make? there must be reparation made in such case. it is all very well for the man: he can go his ways as if nothing had happened, having had his moment of pleasure, but the girl has to bear the brunt. some mothers would be content to patch up such an affair for a sum of money; she had known cases of it. but she would not do so. for her only one reparation could make up for the loss of her daughters honour: marriage. she counted all her cards again before sending mary up to dorans room to say that she wished to speak with him. she felt sure she would win. he was a serious young man, not rakish or loud-voiced like the others. if it had been mr. sheridan or mr. meade or bantam lyons her task would have been much harder. she did not think he would face publicity. all the lodgers in the house knew something of the affair; details had been invented by some. besides, he had been employed for thirteen years in a great catholic wine-merchants office and publicity would mean for him, perhaps, the loss of his job. whereas if he agreed all might be well. she knew he had a good screw for one thing and she suspected he had a bit of stuff put by. nearly the half-hour! she stood up and surveyed herself in the pier-glass. the decisive expression of her great florid face satisfied her and she thought of some mothers she knew who could not get their daughters off their hands. mr. doran was very anxious indeed this sunday morning. he had made two attempts to shave but his hand had been so unsteady that he had been obliged to desist. three days reddish beard fringed his jaws and every two or three minutes a mist gathered on his glasses so that he had to take them off and polish them with his pocket-handkerchief. the recollection of his confession of the night before was a cause of acute pain to him; the priest had drawn out every ridiculous detail of the affair and in the end had so magnified his sin that he was almost thankful at being afforded a loophole of reparation. the harm was done. what could he do now but marry her or run away? he could not brazen it out. the affair would be sure to be talked of and his employer would be certain to hear of it. dublin is such a small city: everyone knows everyone elses business. he felt his heart leap warmly in his throat as he heard in his excited imagination old mr. leonard calling out in his rasping voice: send mr. doran here, please. all his long years of service gone for nothing! all his industry and diligence thrown away! as a young man he had sown his wild oats, of course; he had boasted of his free-thinking and denied the existence of god to his companions in public- houses. but that was all passed and done with... nearly. he still bought a copy of reynoldss newspaper every week but he attended to his religious duties and for nine-tenths of the year lived a regular life. he had money enough to settle down on; it was not that. but the family would look down on her. first of all there was her disreputable father and then her mothers boarding house was beginning to get a certain fame. he had a notion that he was being had. he could imagine his friends talking of the affair and laughing. she was a little vulgar; some times she said i seen and if i hadve known. but what would grammar matter if he really loved her? he could not make up his mind whether to like her or despise her for what she had done. of course he had done it too. his instinct urged him to remain free, not to marry. once you are married you are done for, it said. while he was sitting helplessly on the side of the bed in shirt and trousers she tapped lightly at his door and entered. she told him all, that she had made a clean breast of it to her mother and that her mother would speak with him that morning. she cried and threw her arms round his neck, saying: o bob! bob! what am i to do? what am i to do at all? she would put an end to herself, she said. he comforted her feebly, telling her not to cry, that it would be all right, never fear. he felt against his shirt the agitation of her bosom. it was not altogether his fault that it had happened. he remembered well, with the curious patient memory of the celibate, the first casual caresses her dress, her breath, her fingers had given him. then late one night as he was undressing for she had tapped at his door, timidly. she wanted to relight her candle at his for hers had been blown out by a gust. it was her bath night. she wore a loose open combing- jacket of printed flannel. her white instep shone in the opening of her furry slippers and the blood glowed warmly behind her perfumed skin. from her hands and wrists too as she lit and steadied her candle a faint perfume arose. on nights when he came in very late it was she who warmed up his dinner. he scarcely knew what he was eating feeling her beside him alone, at night, in the sleeping house. and her thoughtfulness! if the night was anyway cold or wet or windy there was sure to be a little tumbler of punch ready for him. perhaps they could be happy together. they used to go upstairs together on tiptoe, each with a candle, and on the third landing exchange reluctant goodnights. they used to kiss. he remembered well her eyes, the touch of her hand and his delirium. but delirium passes. he echoed her phrase, applying it to himself: what am i to do? the instinct of the celibate warned him to hold back. but the sin was there; even his sense of honour told him that reparation must be made for such a sin. while he was sitting with her on the side of the bed mary came to the door and said that the missus wanted to see him in the parlour. he stood up to put on his coat and waistcoat, more helpless than ever. when he was dressed he went over to her to comfort her. it would be all right, never fear. he left her crying on the bed and moaning softly: o my god! going down the stairs his glasses became so dimmed with moisture that he had to take them off and polish them. he longed to ascend through the roof and fly away to another country where he would never hear again of his trouble, and yet a force pushed him downstairs step by step. the implacable faces of his employer and of the madam stared upon his discomfiture. on the last flight of stairs he passed jack mooney who was coming up from the pantry nursing two bottles of bass. they saluted coldly; and the lovers eyes rested for a second or two on a thick bulldog face and a pair of thick short arms. when he reached the foot of the staircase he glanced up and saw jack regarding him from the door of the return-room. suddenly he remembered the night when one of the musichall artistes, a little blond londoner, had made a rather free allusion to polly. the reunion had been almost broken up on account of jacks violence. everyone tried to quiet him. the music-hall artiste, a little paler than usual, kept smiling and saying that there was no harm meant: but jack kept shouting at him that if any fellow tried that sort of a game on with his sister hed bloody well put his teeth down his throat, so he would. polly sat for a little time on the side of the bed, crying. then she dried her eyes and went over to the looking-glass. she dipped the end of the towel in the water-jug and refreshed her eyes with the cool water. she looked at herself in profile and readjusted a hairpin above her ear. then she went back to the bed again and sat at the foot. she regarded the pillows for a long time and the sight of them awakened in her mind secret, amiable memories. she rested the nape of her neck against the cool iron bed-rail and fell into a reverie. there was no longer any perturbation visible on her face. she waited on patiently, almost cheerfully, without alarm. her memories gradually giving place to hopes and visions of the future. her hopes and visions were so intricate that she no longer saw the white pillows on which her gaze was fixed or remembered that she was waiting for anything. at last she heard her mother calling. she started to her feet and ran to the banisters. polly! polly! yes, mamma? come down, dear. mr. doran wants to speak to you. then she remembered what she had been waiting for.  \n"
          ]
        }
      ],
      "source": [
        "decoded_text = bitarray()\n",
        "\n",
        "with open('compressed_file.bin', 'rb') as r:   #read binary form \n",
        "  decoded_text.fromfile(r)\n",
        "\n",
        "decoded_text = decoded_text[:-padding]    #remove padding\n",
        "\n",
        "decoded_text = decoded_text.decode(huffman_dict)\n",
        "decoded_text = ''.join(decoded_text)\n",
        "\n",
        "print(decoded_text)"
      ]
    },
    {
      "cell_type": "markdown",
      "metadata": {
        "id": "XyYvBmXv639C"
      },
      "source": [
        "# ***Save uncompressed recovered Huffman text***"
      ]
    },
    {
      "cell_type": "code",
      "execution_count": null,
      "metadata": {
        "colab": {
          "background_save": true
        },
        "id": "Bv7YSNgD6_C_"
      },
      "outputs": [],
      "source": [
        "with open('uncompressed_file.bin', 'w') as w:\n",
        "  w.write(text)\n",
        "\n",
        "  "
      ]
    }
  ],
  "metadata": {
    "colab": {
      "provenance": []
    },
    "kernelspec": {
      "display_name": "Python 3",
      "name": "python3"
    },
    "language_info": {
      "name": "python"
    }
  },
  "nbformat": 4,
  "nbformat_minor": 0
}